{
  "nbformat": 4,
  "nbformat_minor": 0,
  "metadata": {
    "colab": {
      "provenance": []
    },
    "kernelspec": {
      "name": "python3",
      "display_name": "Python 3"
    },
    "language_info": {
      "name": "python"
    }
  },
  "cells": [
    {
      "cell_type": "code",
      "execution_count": null,
      "metadata": {
        "colab": {
          "base_uri": "https://localhost:8080/"
        },
        "id": "CLkM6q5zDSwX",
        "outputId": "4c29e632-621a-41b5-c5d5-f5665842550b"
      },
      "outputs": [
        {
          "output_type": "stream",
          "name": "stdout",
          "text": [
            "point2,3\n",
            "point5,6\n",
            "midpoint=(3.5,4.5)\n"
          ]
        }
      ],
      "source": [
        "## question 1\n",
        "class point:\n",
        "    def __init__(self,x,y):\n",
        "        self.x=x\n",
        "        self.y=y\n",
        "    def display(self):\n",
        "      print(f\"point{self.x},{self.y}\")\n",
        "p1=point(2,3)\n",
        "p2=point(5,6)\n",
        "mid_x=(p1.x+p2.x)/2\n",
        "mid_y=(p1.y+p2.y)/2\n",
        "p1.display()\n",
        "p2.display()\n",
        "print(f\"midpoint=({mid_x},{mid_y})\")\n",
        "\n",
        "\n"
      ]
    },
    {
      "cell_type": "code",
      "source": [
        "##  question 2\n",
        "class cars:\n",
        "  def __init__(self,price,name,colour,type):\n",
        "    self.price=price\n",
        "    self.name=name\n",
        "    self.colour=colour\n",
        "    self.type=type\n",
        "  def display(self):\n",
        "    print(f\"price={self.price},name={self.name},colour={self.colour},type={self.type}\")\n",
        "car1=cars(100,\"maruti\",\"white\",\"convertable\")\n",
        "car2=cars(100,\"hyundai\",\"green\",\"non_convertable\")\n",
        "car1.display()\n",
        "car2.display()\n"
      ],
      "metadata": {
        "colab": {
          "base_uri": "https://localhost:8080/"
        },
        "id": "OnIQ99KdDT4O",
        "outputId": "42bef80a-d7b5-4990-9f01-eff2d55ed848"
      },
      "execution_count": null,
      "outputs": [
        {
          "output_type": "stream",
          "name": "stdout",
          "text": [
            "price=100,name=maruti,colour=white,type=convertable\n",
            "price=100,name=hyundai,colour=green,type=non_convertable\n"
          ]
        }
      ]
    },
    {
      "cell_type": "code",
      "source": [
        "## question 3\n",
        "class faculty:\n",
        "  def __init__(self,name_title,dept):\n",
        "    self.name_title=name_title\n",
        "    self.dept=dept\n",
        "  def display(self):\n",
        "    print(f\"name_title={self.name_title},departmentr:={self.dept}\")\n",
        "f1=faculty(\"sharma\",\"cse\")\n",
        "f2=faculty(\"sharma\",\"cse\")\n",
        "f1.display()\n",
        "f2.display()\n"
      ],
      "metadata": {
        "colab": {
          "base_uri": "https://localhost:8080/"
        },
        "id": "0K2VB4oFDT0u",
        "outputId": "34044e78-4618-4970-9ae4-6a1c5440f627"
      },
      "execution_count": null,
      "outputs": [
        {
          "output_type": "stream",
          "name": "stdout",
          "text": [
            "name_title=sharma,departmentr:=cse\n",
            "name_title=sharma,departmentr:=cse\n"
          ]
        }
      ]
    },
    {
      "cell_type": "code",
      "source": [
        "## question 4\n",
        "class point:\n",
        "  def __init__(self,x,y):\n",
        "    self.x=x\n",
        "    self.y=y\n",
        "  def display(self):\n",
        "    print(f\"point{self.x},{self.y}\")\n",
        "  def reflect_x(self):\n",
        "    return point(self.x,-self.y)\n",
        "p1=point(1,2)\n",
        "p1.display()\n",
        "p2=p1.reflect_x()\n",
        "p2.display()"
      ],
      "metadata": {
        "colab": {
          "base_uri": "https://localhost:8080/"
        },
        "id": "OWinF5N6DTyc",
        "outputId": "08aeefa6-478e-4802-8ca3-9f7d12883979"
      },
      "execution_count": null,
      "outputs": [
        {
          "output_type": "stream",
          "name": "stdout",
          "text": [
            "point1,2\n",
            "point1,-2\n"
          ]
        }
      ]
    },
    {
      "cell_type": "code",
      "source": [
        "## question 5\n",
        "class check:\n",
        "  def __init__(self,words):\n",
        "    self.words=words\n",
        "  def start_vowels(self):\n",
        "    vowels=\"aeiouAEIOU\"\n",
        "    for word in self.words:\n",
        "      if word[0] not in vowels:\n",
        "        return False\n",
        "      return True\n",
        "check1=check([\"eello\",\"apple\"])\n",
        "print(check1.start_vowels())\n",
        "\n",
        "\n"
      ],
      "metadata": {
        "colab": {
          "base_uri": "https://localhost:8080/"
        },
        "id": "UMUwX6nQDTvz",
        "outputId": "4857a049-31f3-4e90-e179-df5477a86392"
      },
      "execution_count": null,
      "outputs": [
        {
          "output_type": "stream",
          "name": "stdout",
          "text": [
            "True\n"
          ]
        }
      ]
    },
    {
      "cell_type": "code",
      "source": [
        "## question 6\n",
        "class triangle:\n",
        "  def __init__(self,side1,side2,side3):\n",
        "    self.side1=side1\n",
        "    self.side2=side2\n",
        "    self.side3=side3\n",
        "  def area(self):\n",
        "    s=(self.side1+self.side2+self.side3)/2\n",
        "    area=(s*(s-self.side1)*(s-self.side2)*(s-self.side3))**0.5\n",
        "    return area\n",
        "t=triangle(3,4,5)\n",
        "print(t.area())\n"
      ],
      "metadata": {
        "colab": {
          "base_uri": "https://localhost:8080/"
        },
        "id": "sl5AOpIXDTtZ",
        "outputId": "3a4322b9-bc6c-4e57-90ba-092b88c83b61"
      },
      "execution_count": null,
      "outputs": [
        {
          "output_type": "stream",
          "name": "stdout",
          "text": [
            "6.0\n"
          ]
        }
      ]
    },
    {
      "cell_type": "code",
      "source": [
        "## question 7 menu driven program (just see)\n",
        "def gcd(a, b):\n",
        "    while b != 0:\n",
        "        a, b = b, a % b\n",
        "    return a\n",
        "\n",
        "class Fraction:\n",
        "    def __init__(self, num, den):\n",
        "        self.num = num\n",
        "        self.den = den\n",
        "\n",
        "    def display(self):\n",
        "        print(f\"{self.num}/{self.den}\")\n",
        "\n",
        "    def simplify(self):\n",
        "        g = gcd(self.num, self.den)\n",
        "        self.num //= g\n",
        "        self.den //= g\n",
        "\n",
        "    def add(self, other):\n",
        "        new_num = self.num * other.den + self.den * other.num\n",
        "        new_den = self.den * other.den\n",
        "        result = Fraction(new_num, new_den)\n",
        "        result.simplify()\n",
        "        return result\n",
        "\n",
        "    def subtract(self, other):\n",
        "        new_num = self.num * other.den - self.den * other.num\n",
        "        new_den = self.den * other.den\n",
        "        result = Fraction(new_num, new_den)\n",
        "        result.simplify()\n",
        "        return result\n",
        "\n",
        "# Menu Driven Program\n",
        "f1 = Fraction(1, 2)\n",
        "f2 = Fraction(3, 4)\n",
        "\n",
        "print(f\"First Fraction: \", end=\"\")\n",
        "f1.display()\n",
        "print(f\"Second Fraction: \", end=\"\")\n",
        "f2.display()\n",
        "\n",
        "sum_fraction = f1.add(f2)\n",
        "diff_fraction = f1.subtract(f2)\n",
        "\n",
        "print(f\"Sum of fractions: \", end=\"\")\n",
        "sum_fraction.display()\n",
        "print(f\"Difference of fractions: \", end=\"\")\n",
        "diff_fraction.display()"
      ],
      "metadata": {
        "colab": {
          "base_uri": "https://localhost:8080/"
        },
        "id": "qO1AY7zFDTrB",
        "outputId": "fa63b20c-b532-4222-ca8a-4e7a8f253656"
      },
      "execution_count": null,
      "outputs": [
        {
          "output_type": "stream",
          "name": "stdout",
          "text": [
            "First Fraction: 1/2\n",
            "Second Fraction: 3/4\n",
            "Sum of fractions: 5/4\n",
            "Difference of fractions: -1/4\n"
          ]
        }
      ]
    },
    {
      "cell_type": "code",
      "source": [
        "## question 8\n",
        "class complex:\n",
        "  def __init__(self,real,imag):\n",
        "    self.real=real\n",
        "    self.imag=imag\n",
        "  def display(self):\n",
        "    print(f\"{self.real}+{self.imag}i\")\n",
        "\n",
        "  def add(self,other):\n",
        "    new_real=self.real+other.real\n",
        "    new_imag=self.imag+other.imag\n",
        "    return complex(new_real,new_imag)\n",
        "  def substract(self,other):\n",
        "    new_real=self.real-other.real\n",
        "    new_imag=self.imag-other.imag\n",
        "    return complex(new_real,new_imag)\n",
        "c1=complex(2,3)\n",
        "c2=complex(3,4)\n",
        "c3=c1.add(c2)\n",
        "c4=c1.substract(c2)\n",
        "c3.display()\n",
        "c4.display()"
      ],
      "metadata": {
        "colab": {
          "base_uri": "https://localhost:8080/"
        },
        "id": "2XijMsPVDTor",
        "outputId": "bbe57675-4f6a-49bf-cd13-ef7eb618d95d"
      },
      "execution_count": null,
      "outputs": [
        {
          "output_type": "stream",
          "name": "stdout",
          "text": [
            "5+7i\n",
            "-1+-1i\n"
          ]
        }
      ]
    },
    {
      "cell_type": "code",
      "source": [
        "## question 9\n",
        "class distance:\n",
        "  def __init__(self,dis1,dis2):\n",
        "    self.dis1=dis1\n",
        "    self.dis2=dis2\n",
        "  def add(self):\n",
        "    new_dis1=self.dis1+self.dis2\n",
        "    return new_dis1\n",
        "t=distance(10,220)\n",
        "print(\"distance is\",t.add(),\"feets\")"
      ],
      "metadata": {
        "colab": {
          "base_uri": "https://localhost:8080/"
        },
        "id": "fjWtfDxbDTmZ",
        "outputId": "9df40826-1b11-491b-c492-c0aec325f9ba"
      },
      "execution_count": null,
      "outputs": [
        {
          "output_type": "stream",
          "name": "stdout",
          "text": [
            "distance is 230 feets\n"
          ]
        }
      ]
    },
    {
      "cell_type": "code",
      "source": [
        "## question 10\n",
        "class Time:\n",
        "    def __init__(self, hours):\n",
        "        self.hours = hours\n",
        "\n",
        "    def display(self):\n",
        "        print(f\"{self.hours} hours\")\n",
        "\n",
        "    def add(self, other):\n",
        "        new_hours = self.hours + other.hours\n",
        "        return Time(new_hours)\n",
        "\n",
        "    def subtract(self, other):\n",
        "        diff_hours = self.hours - other.hours\n",
        "        # Handle negative time if necessary (e.g., return absolute difference)\n",
        "        diff_hours = abs(diff_hours)\n",
        "        return Time(diff_hours)\n",
        "\n",
        "# Test cases\n",
        "t1 = Time(10)\n",
        "t2 = Time(1)\n",
        "t3 = Time(0)\n",
        "t4 = Time(23)\n",
        "t5 = Time(1)\n",
        "\n",
        "print(\"Time 1:\", end=\" \")\n",
        "t1.display()\n",
        "print(\"Time 2:\", end=\" \")\n",
        "t2.display()\n",
        "\n",
        "print(\"Sum of t1 and t2:\", end=\" \")\n",
        "t1.add(t2).display()\n",
        "\n",
        "print(\"Difference between t1 and t2:\", end=\" \")\n",
        "t1.subtract(t2).display()\n",
        "\n",
        "print(\"Sum of t4 and t5:\", end=\" \")\n",
        "t4.add(t5).display()\n",
        "\n",
        "print(\"Difference between t5 and t4:\", end=\" \")\n",
        "t5.subtract(t4).display()\n",
        "\n",
        "print(\"Subtracting t1 from t1:\", end=\" \")\n",
        "t1.subtract(t1).display()"
      ],
      "metadata": {
        "colab": {
          "base_uri": "https://localhost:8080/"
        },
        "id": "o-IJDW3Kmand",
        "outputId": "41784a74-323a-49ed-92f8-49ba18af58eb"
      },
      "execution_count": null,
      "outputs": [
        {
          "output_type": "stream",
          "name": "stdout",
          "text": [
            "Time 1: 10 hours\n",
            "Time 2: 1 hours\n",
            "Sum of t1 and t2: 11 hours\n",
            "Difference between t1 and t2: 9 hours\n",
            "Sum of t4 and t5: 24 hours\n",
            "Difference between t5 and t4: 22 hours\n",
            "Subtracting t1 from t1: 0 hours\n"
          ]
        }
      ]
    },
    {
      "cell_type": "code",
      "source": [
        "## question 11\n",
        "class height:\n",
        "  def __init__(self,feet,inches):\n",
        "    self.feet=feet\n",
        "    self.inches=inches\n",
        "  def display(self):\n",
        "    print(f\"{self.feet}feet{self.inches}inches\")\n",
        "  def add(self,other):\n",
        "    new_feet=self.feet+other.feet\n",
        "    new_inches=self.inches+other.inches\n",
        "    return height(new_feet,new_inches)\n",
        "  def subtract(self,other):\n",
        "    new_feet=self.feet-other.feet\n",
        "    new_inches=self.inches-other.inches\n",
        "    return height(new_feet,new_inches)\n",
        "h1=height(2,3)\n",
        "h2=height(3,4)\n",
        "h3=h1.add(h2)\n",
        "h4=h1.subtract(h2)\n",
        "h3.display()\n",
        "h4.display()"
      ],
      "metadata": {
        "colab": {
          "base_uri": "https://localhost:8080/"
        },
        "id": "JHBAONx5makF",
        "outputId": "c0bb1bff-0dbc-4915-c943-6bf39cdeb411"
      },
      "execution_count": null,
      "outputs": [
        {
          "output_type": "stream",
          "name": "stdout",
          "text": [
            "5feet7inches\n",
            "-1feet-1inches\n"
          ]
        }
      ]
    },
    {
      "cell_type": "code",
      "source": [
        "## question 13\n",
        "class integers:\n",
        "  def __init__(self,num):\n",
        "    self.num=num\n",
        "  def display(self):\n",
        "    print(f\"{self.num}\")\n",
        "  def is_max(self,other):\n",
        "    if self.num>other.num:\n",
        "      return True\n",
        "    else:\n",
        "      return False\n",
        "i1=integers(2)\n",
        "i2=integers(3)\n",
        "print(i1.is_max(i2))\n"
      ],
      "metadata": {
        "colab": {
          "base_uri": "https://localhost:8080/"
        },
        "id": "ucB-c3ffmahZ",
        "outputId": "77fdee04-0f8a-4418-ffec-8183cbfc094e"
      },
      "execution_count": null,
      "outputs": [
        {
          "output_type": "stream",
          "name": "stdout",
          "text": [
            "False\n"
          ]
        }
      ]
    },
    {
      "cell_type": "code",
      "source": [
        "## question 14\n",
        "class book:\n",
        "  def __init__(self,title ,author,publisher,isbn):\n",
        "    self.title=title\n",
        "    self.author=author\n",
        "    self.publisher=publisher\n",
        "    self.isbn=isbn\n",
        "  def read_data(self):\n",
        "    self.title=input(\"enter the title\")\n",
        "    self.author=input(\"enter the author\")\n",
        "    self.publisher=input(\"enter the publisher\")\n",
        "    self.isbn=input(\"enter the isbn\")\n",
        "  def display_self(self):\n",
        "    print(f\"title is {self.title}\")\n",
        "    print(f\"author is {self.author}\")\n",
        "    print(f\"publisher is {self.publisher}\")\n",
        "    print(f\"isbn is {self.isbn}\")\n",
        "b=book(\"\",\"\",\"\",\"\")\n",
        "b.read_data()\n",
        "b.display_self()"
      ],
      "metadata": {
        "id": "gNZe-KuvmafH",
        "colab": {
          "base_uri": "https://localhost:8080/"
        },
        "outputId": "cf9dad81-a4e5-4f29-d2ea-5f30bff7d32f"
      },
      "execution_count": 4,
      "outputs": [
        {
          "output_type": "stream",
          "name": "stdout",
          "text": [
            "enter the titlemartin\n",
            "enter the authorluthar\n",
            "enter the publisherjunoir\n",
            "enter the isbnhsdjwhidhj\n",
            "title is martin\n",
            "author is luthar\n",
            "publisher is junoir\n",
            "isbn is hsdjwhidhj\n"
          ]
        }
      ]
    },
    {
      "cell_type": "code",
      "source": [
        "## question 16\n",
        "class swap:\n",
        "  def __init__(self,a,b):\n",
        "    self.a=a\n",
        "    self.b=b\n",
        "  def display(self):\n",
        "    print(f\"a={self.a}\")\n",
        "    print(f\"b={self.b}\")\n",
        "  def swap(self):\n",
        "    self.a,self.b=self.b,self.a\n",
        "    return self.a,self.b\n",
        "s=swap(2,3)\n",
        "s.display()\n",
        "s.swap()\n",
        "s.display()"
      ],
      "metadata": {
        "id": "cshg5My1mact",
        "colab": {
          "base_uri": "https://localhost:8080/"
        },
        "outputId": "84c2b588-3f39-4941-ca4e-f9cf62a61df4"
      },
      "execution_count": 7,
      "outputs": [
        {
          "output_type": "stream",
          "name": "stdout",
          "text": [
            "a=2\n",
            "b=3\n",
            "a=3\n",
            "b=2\n"
          ]
        }
      ]
    },
    {
      "cell_type": "code",
      "source": [
        "## question 16\n",
        "class mean:\n",
        "  def __init__(self,a,b,c):\n",
        "    self.a=a\n",
        "    self.b=b\n",
        "    self.c=c\n",
        "  def display(self):\n",
        "    print(f\"mean={self.a+self.b+self.c/3}\")\n",
        "m=mean(2,3,4)\n",
        "m.display()\n"
      ],
      "metadata": {
        "id": "L4nkEB-4DTj6",
        "colab": {
          "base_uri": "https://localhost:8080/"
        },
        "outputId": "b5a483b0-8678-4317-af3a-93917d300c8e"
      },
      "execution_count": 8,
      "outputs": [
        {
          "output_type": "stream",
          "name": "stdout",
          "text": [
            "mean=6.333333333333333\n"
          ]
        }
      ]
    },
    {
      "cell_type": "code",
      "source": [
        "## alternative of the above one\n",
        "class mean:\n",
        "  def __init__(self,a,b,c):\n",
        "    self.a=a\n",
        "    self.b=b\n",
        "    self.c=c\n",
        "\n",
        "  def display(self):\n",
        "    result = (self.a + self.b + self.c) / 3\n",
        "    return result\n",
        "\n",
        "m = mean(2,3,4)\n",
        "print(f\"mean={m.display()}\")\n"
      ],
      "metadata": {
        "id": "yuwfNz5fDThZ",
        "colab": {
          "base_uri": "https://localhost:8080/"
        },
        "outputId": "a48f34c1-e682-4f43-ebdb-8dc0b3906b2d"
      },
      "execution_count": 10,
      "outputs": [
        {
          "output_type": "stream",
          "name": "stdout",
          "text": [
            "mean=3.0\n"
          ]
        }
      ]
    },
    {
      "cell_type": "code",
      "source": [
        "## question 17\n",
        "class student:\n",
        "  def __init__(self,roll_no,math,physics,cs):\n",
        "    self.roll_no=roll_no\n",
        "    self.math=math\n",
        "    self.physics=physics\n",
        "    self.cs=cs\n",
        "    self.total=0\n",
        "  def calculate_total(self):\n",
        "      return self.math+self.physics+self.cs\n",
        "  def display(self):\n",
        "      print(f\"roll no={self.roll_no}\")\n",
        "      print(f\"math={self.math}\")\n",
        "      print(f\"physics={self.physics}\")\n",
        "      print(f\"cs={self.cs}\")\n",
        "      print(f\"total={self.calculate_total()}\")\n",
        "s1=student(1,2,3,4)\n",
        "s2=student(2,3,4,5)\n",
        "s3=student(3,4,5,6)\n",
        "s4=student(4,5,6,7)\n",
        "students=[s1,s2,s3,s4]\n",
        "for s in students:\n",
        "  s.calculate_total()\n",
        "students.sort(key=lambda x:x.calculate_total(),reverse=True)\n",
        "print(\"sorted students:\")\n",
        "for s in students:\n",
        "  s.display()"
      ],
      "metadata": {
        "id": "jVT_Z1IHDTfL",
        "colab": {
          "base_uri": "https://localhost:8080/"
        },
        "outputId": "4cb2c878-156f-414f-cafc-e6e5a9f346e7"
      },
      "execution_count": 17,
      "outputs": [
        {
          "output_type": "stream",
          "name": "stdout",
          "text": [
            "sorted students:\n",
            "roll no=4\n",
            "math=5\n",
            "physics=6\n",
            "cs=7\n",
            "total=18\n",
            "roll no=3\n",
            "math=4\n",
            "physics=5\n",
            "cs=6\n",
            "total=15\n",
            "roll no=2\n",
            "math=3\n",
            "physics=4\n",
            "cs=5\n",
            "total=12\n",
            "roll no=1\n",
            "math=2\n",
            "physics=3\n",
            "cs=4\n",
            "total=9\n"
          ]
        }
      ]
    },
    {
      "cell_type": "code",
      "source": [
        "## question 18\n",
        "class Calculator:\n",
        "    def add(self, a, b):\n",
        "        return a + b\n",
        "\n",
        "    def subtract(self, a, b):\n",
        "        return a - b\n",
        "\n",
        "    def multiply(self, a, b):\n",
        "        return a * b\n",
        "\n",
        "    def divide(self, a, b):\n",
        "        if b != 0:\n",
        "            return a / b\n",
        "        else:\n",
        "            return \"Cannot divide by zero\"\n",
        "\n",
        "# Menu-driven part\n",
        "calc = Calculator()\n",
        "\n",
        "while True:\n",
        "    print(\"\\n--- MENU ---\")\n",
        "    print(\"1. Add\")\n",
        "    print(\"2. Subtract\")\n",
        "    print(\"3. Multiply\")\n",
        "    print(\"4. Divide\")\n",
        "    print(\"5. Exit\")\n",
        "\n",
        "    choice = int(input(\"Enter your choice: \"))\n",
        "\n",
        "    if choice == 5:\n",
        "        print(\"Exiting program...\")\n",
        "        break\n",
        "\n",
        "    a = float(input(\"Enter first number: \"))\n",
        "    b = float(input(\"Enter second number: \"))\n",
        "\n",
        "    if choice == 1:\n",
        "        print(\"Result:\", calc.add(a, b))\n",
        "    elif choice == 2:\n",
        "        print(\"Result:\", calc.subtract(a, b))\n",
        "    elif choice == 3:\n",
        "        print(\"Result:\", calc.multiply(a, b))\n",
        "    elif choice == 4:\n",
        "        print(\"Result:\", calc.divide(a, b))\n",
        "    else:\n",
        "        print(\"Invalid choice! Try again.\")\n"
      ],
      "metadata": {
        "id": "okOEU_3eDTc2",
        "colab": {
          "base_uri": "https://localhost:8080/"
        },
        "outputId": "e454f04d-618d-4a09-84b6-6ba2fe61ce26"
      },
      "execution_count": null,
      "outputs": [
        {
          "output_type": "stream",
          "name": "stdout",
          "text": [
            "\n",
            "--- MENU ---\n",
            "1. Add\n",
            "2. Subtract\n",
            "3. Multiply\n",
            "4. Divide\n",
            "5. Exit\n",
            "Enter your choice: 1\n",
            "Enter first number: 5\n",
            "Enter second number: 7\n",
            "Result: 12.0\n",
            "\n",
            "--- MENU ---\n",
            "1. Add\n",
            "2. Subtract\n",
            "3. Multiply\n",
            "4. Divide\n",
            "5. Exit\n"
          ]
        }
      ]
    },
    {
      "cell_type": "code",
      "source": [
        "## question 19\n"
      ],
      "metadata": {
        "id": "6SBj_8_8SO8i"
      },
      "execution_count": null,
      "outputs": []
    },
    {
      "cell_type": "code",
      "source": [],
      "metadata": {
        "id": "RN9-MbFtSO6r"
      },
      "execution_count": null,
      "outputs": []
    },
    {
      "cell_type": "code",
      "source": [],
      "metadata": {
        "id": "9mw4xN95SO4y"
      },
      "execution_count": null,
      "outputs": []
    },
    {
      "cell_type": "code",
      "source": [],
      "metadata": {
        "id": "IcOZ7ElqSO2z"
      },
      "execution_count": null,
      "outputs": []
    },
    {
      "cell_type": "code",
      "source": [],
      "metadata": {
        "id": "HISipVuHSO00"
      },
      "execution_count": null,
      "outputs": []
    },
    {
      "cell_type": "code",
      "source": [],
      "metadata": {
        "id": "NZ21vBN9SOyB"
      },
      "execution_count": null,
      "outputs": []
    },
    {
      "cell_type": "code",
      "source": [],
      "metadata": {
        "id": "u2oE0iFZSOv6"
      },
      "execution_count": null,
      "outputs": []
    },
    {
      "cell_type": "code",
      "source": [],
      "metadata": {
        "id": "lelAlLUUSOt_"
      },
      "execution_count": null,
      "outputs": []
    },
    {
      "cell_type": "code",
      "source": [],
      "metadata": {
        "id": "-i6Tge6LSOr3"
      },
      "execution_count": null,
      "outputs": []
    }
  ]
}