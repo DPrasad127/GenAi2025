{
  "nbformat": 4,
  "nbformat_minor": 0,
  "metadata": {
    "colab": {
      "provenance": []
    },
    "kernelspec": {
      "name": "python3",
      "display_name": "Python 3"
    },
    "language_info": {
      "name": "python"
    }
  },
  "cells": [
    {
      "cell_type": "code",
      "execution_count": null,
      "metadata": {
        "id": "us36y6UWlJIR"
      },
      "outputs": [],
      "source": [
        "## questiion 1\n",
        "##"
      ]
    },
    {
      "cell_type": "code",
      "source": [
        "## make a list of 5 random numbers\n",
        "## question 2\n",
        "import random\n",
        "numbers=[]\n",
        "for i in range(5):\n",
        "    numbers.append(random.randint(1,100))\n",
        "print(numbers)"
      ],
      "metadata": {
        "colab": {
          "base_uri": "https://localhost:8080/"
        },
        "id": "jcDk4r3flc8J",
        "outputId": "fad391bf-c83a-4e7b-926b-f4e404569684"
      },
      "execution_count": null,
      "outputs": [
        {
          "output_type": "stream",
          "name": "stdout",
          "text": [
            "[52, 53, 14, 91, 22]\n"
          ]
        }
      ]
    },
    {
      "cell_type": "code",
      "source": [
        "## question 3\n",
        "## first 10 characters of the alphabet\n",
        "import string\n",
        "alphabet=list(string.ascii_lowercase[:10])\n",
        "print(alphabet)\n",
        "##   or  alphabet = list(\"abcdefghijklmnopqrstuvwxyz\"[:10])"
      ],
      "metadata": {
        "colab": {
          "base_uri": "https://localhost:8080/"
        },
        "id": "Vz0VOhCvlc4z",
        "outputId": "4b873587-93fd-469b-ae71-884b1172c8bd"
      },
      "execution_count": null,
      "outputs": [
        {
          "output_type": "stream",
          "name": "stdout",
          "text": [
            "['a', 'b', 'c', 'd', 'e', 'f', 'g', 'h', 'i', 'j']\n"
          ]
        }
      ]
    },
    {
      "cell_type": "code",
      "source": [
        "## question 4\n",
        "## usig map convert the lsit of functions to their ascii values of random cahracters\n",
        "char=list(map(ord,alphabet))\n",
        "print(char)"
      ],
      "metadata": {
        "colab": {
          "base_uri": "https://localhost:8080/"
        },
        "id": "O77kckoilc2q",
        "outputId": "5e476415-1903-45fc-8221-6d78a80b7c41"
      },
      "execution_count": null,
      "outputs": [
        {
          "output_type": "stream",
          "name": "stdout",
          "text": [
            "[97, 98, 99, 100, 101, 102, 103, 104, 105, 106]\n"
          ]
        }
      ]
    },
    {
      "cell_type": "code",
      "source": [
        "## question 5\n",
        "## reduce func. tonfind the sum of first 10 natural numbers\n",
        "from functools import reduce\n",
        "\n",
        "l = range(0,11)\n",
        "\n",
        "# Sum of all numbers\n",
        "sum_result = reduce(lambda x, y: x + y, l)\n",
        "print(\"Sum:\", sum_result)\n",
        "\n"
      ],
      "metadata": {
        "colab": {
          "base_uri": "https://localhost:8080/"
        },
        "id": "C3unDFULlc0U",
        "outputId": "bdbb5462-687d-4726-ccb4-2df55aa4efe2"
      },
      "execution_count": null,
      "outputs": [
        {
          "output_type": "stream",
          "name": "stdout",
          "text": [
            "Sum: 55\n"
          ]
        }
      ]
    },
    {
      "cell_type": "code",
      "source": [
        "## question 6\n",
        "## filter func. to filter out even numbers from the list, ## lsit to tuple or tuple to list\n",
        "numbers = list(range(1,10))\n",
        "# Filter even numbers\n",
        "even_numbers = tuple(filter(lambda x: x % 2 == 0, numbers))\n",
        "print(\"Even numbers:\", even_numbers)\n",
        "\n"
      ],
      "metadata": {
        "colab": {
          "base_uri": "https://localhost:8080/"
        },
        "id": "Usgonpd1lctt",
        "outputId": "191a5003-568a-43e5-a7e1-99a201460f76"
      },
      "execution_count": null,
      "outputs": [
        {
          "output_type": "stream",
          "name": "stdout",
          "text": [
            "Even numbers: (2, 4, 6, 8)\n"
          ]
        }
      ]
    },
    {
      "cell_type": "code",
      "source": [
        "## question 7\n",
        "## map function to print the double value of each element in a list as well as random number as extra\n",
        "import random\n",
        "numbers = random.sample(range(1,11), 5)\n",
        "double_numbers = list(map(lambda x: x * 2, numbers))\n",
        "print(\"Original numbers:\", numbers)\n",
        "print(\"Doubled numbers:\", double_numbers)"
      ],
      "metadata": {
        "colab": {
          "base_uri": "https://localhost:8080/"
        },
        "id": "0iLLv8FKlcqR",
        "outputId": "3f279e4d-2661-4786-943e-8c0194145e31"
      },
      "execution_count": null,
      "outputs": [
        {
          "output_type": "stream",
          "name": "stdout",
          "text": [
            "Original numbers: [3, 5, 6, 1, 10]\n",
            "Doubled numbers: [6, 10, 12, 2, 20]\n"
          ]
        }
      ]
    },
    {
      "cell_type": "code",
      "source": [
        "## question 8\n",
        "## create a list [a,b,b] and convert to tuple and print\n",
        "list1 = ['a', 'b', 'b']\n",
        "tuple1 = tuple(list1)\n",
        "print(tuple1)\n",
        "\n",
        "tuple2=('a','b','c')\n",
        "list2=list(tuple2)\n",
        "print(list2)\n",
        "\n"
      ],
      "metadata": {
        "colab": {
          "base_uri": "https://localhost:8080/"
        },
        "id": "EOJuTzczlcn8",
        "outputId": "a9b4231d-91ae-48b7-f6e0-a69f3403394a"
      },
      "execution_count": null,
      "outputs": [
        {
          "output_type": "stream",
          "name": "stdout",
          "text": [
            "('a', 'b', 'b')\n",
            "['a', 'b', 'c']\n"
          ]
        }
      ]
    },
    {
      "cell_type": "code",
      "source": [
        "## question 9\n",
        "## create and tuple an dprint its length\n",
        "tup1=('a','b','c')\n",
        "length=len(tup1)\n",
        "print(length)"
      ],
      "metadata": {
        "colab": {
          "base_uri": "https://localhost:8080/"
        },
        "id": "Tih-O0R0lclR",
        "outputId": "0981b677-b87d-44a0-a62a-60acb09404d3"
      },
      "execution_count": null,
      "outputs": [
        {
          "output_type": "stream",
          "name": "stdout",
          "text": [
            "3\n"
          ]
        }
      ]
    },
    {
      "cell_type": "code",
      "source": [
        "## question 10\n",
        "## creata a dictonary of products purchased and their mrp's .calculate the bill and display to the customer\n",
        "products={'apple':50,'orange':10}\n",
        "print('products and mrps',products)\n",
        "total_bill=sum(products.values())\n",
        "print('total bill',total_bill)\n",
        "\n"
      ],
      "metadata": {
        "colab": {
          "base_uri": "https://localhost:8080/"
        },
        "id": "Qj6un8qElcil",
        "outputId": "9184c8ab-7eaf-40e6-e4dc-dc95c1d46c0e"
      },
      "execution_count": null,
      "outputs": [
        {
          "output_type": "stream",
          "name": "stdout",
          "text": [
            "products and mrps {'apple': 50, 'orange': 10}\n",
            "total bill 60\n"
          ]
        }
      ]
    },
    {
      "cell_type": "code",
      "source": [
        "## quesrion 11\n",
        "## prompt the user to input a string and return in alphabetical order and freequency of occurance in that string\n",
        "s = input(\"Enter a string: \")\n",
        "freq = {}\n",
        "for char in s:\n",
        "    if char in freq:\n",
        "        freq[char] += 1\n",
        "    else:\n",
        "        freq[char] = 1\n",
        "for char in sorted(freq):\n",
        "    print(f\"'{char}': {freq[char]}\")\n",
        "\n",
        "\n"
      ],
      "metadata": {
        "colab": {
          "base_uri": "https://localhost:8080/"
        },
        "id": "j_6Eo3yElcfn",
        "outputId": "f161d596-9f0c-47e7-c82e-3c0e17783b20"
      },
      "execution_count": null,
      "outputs": [
        {
          "output_type": "stream",
          "name": "stdout",
          "text": [
            "Enter a string: hello\n",
            "'e': 1\n",
            "'h': 1\n",
            "'l': 2\n",
            "'o': 1\n"
          ]
        }
      ]
    },
    {
      "cell_type": "code",
      "source": [
        "## alternate of above one\n",
        "s = \"banana\"\n",
        "freq = {}\n",
        "\n",
        "for char in s:\n",
        "    if char in freq:\n",
        "        freq[char] += 1\n",
        "    else:\n",
        "        freq[char] = 1\n",
        "print(freq)"
      ],
      "metadata": {
        "colab": {
          "base_uri": "https://localhost:8080/"
        },
        "id": "SsU_iMdBlcdH",
        "outputId": "7cae5ff8-0274-456f-a69a-5803fa29515e"
      },
      "execution_count": null,
      "outputs": [
        {
          "output_type": "stream",
          "name": "stdout",
          "text": [
            "{'b': 1, 'a': 3, 'n': 2}\n"
          ]
        }
      ]
    },
    {
      "cell_type": "code",
      "source": [
        "##question 12\n",
        "##"
      ],
      "metadata": {
        "id": "FYjOSDGzlcYq"
      },
      "execution_count": null,
      "outputs": []
    },
    {
      "cell_type": "code",
      "source": [
        "## question 13\n",
        "##"
      ],
      "metadata": {
        "id": "r6GyNM3j8ufu"
      },
      "execution_count": null,
      "outputs": []
    },
    {
      "cell_type": "code",
      "source": [
        "## question 14\n",
        "## program to print the maximum and minimum value in a dictonary\n",
        "my_dict = {'a': 10, 'b': 5, 'c': 20, 'd': 15}\n",
        "max_value = max(my_dict.values())\n",
        "min_value = min(my_dict.values())\n",
        "print(max_value)\n",
        "print(min_value)"
      ],
      "metadata": {
        "colab": {
          "base_uri": "https://localhost:8080/"
        },
        "id": "hpgFsCLY8uc8",
        "outputId": "260c1820-bfcc-4391-8551-1218016e232e"
      },
      "execution_count": null,
      "outputs": [
        {
          "output_type": "stream",
          "name": "stdout",
          "text": [
            "20\n",
            "5\n"
          ]
        }
      ]
    },
    {
      "cell_type": "code",
      "source": [
        "## question 15\n",
        "## object's field"
      ],
      "metadata": {
        "id": "dAd1NNFL8ubA"
      },
      "execution_count": null,
      "outputs": []
    },
    {
      "cell_type": "code",
      "source": [
        "## question 16\n",
        "## remove duplicates from a dictonary\n",
        "my_dict = {'a': 1, 'b': 2, 'c': 1, 'd': 3, 'e': 2}\n",
        "unique_dict = {}\n",
        "for key, value in my_dict.items():\n",
        "    if value not in unique_dict.values():\n",
        "        unique_dict[key] = value\n",
        "print(unique_dict)\n"
      ],
      "metadata": {
        "colab": {
          "base_uri": "https://localhost:8080/"
        },
        "id": "FoC4gu2Q8uY_",
        "outputId": "0fe56202-951b-403a-abcc-62beb200e02a"
      },
      "execution_count": null,
      "outputs": [
        {
          "output_type": "stream",
          "name": "stdout",
          "text": [
            "{'a': 1, 'b': 2, 'd': 3}\n"
          ]
        }
      ]
    },
    {
      "cell_type": "code",
      "source": [
        "## question 17\n",
        "## check weather the dictonary has some key value pair stored in it or not ## co relate with  above program and write\n",
        "my_dict = {'a': 1, 'b': 2, 'c': 3}\n",
        "if my_dict:\n",
        "    print(\"Dictionary is not empty\")\n",
        "else:\n",
        "    print(\"Dictionary is empty\")\n",
        "\n"
      ],
      "metadata": {
        "colab": {
          "base_uri": "https://localhost:8080/"
        },
        "id": "-OwH_yvO8uWd",
        "outputId": "20e7ee85-5cde-4001-a458-d18dc6a8e529"
      },
      "execution_count": null,
      "outputs": [
        {
          "output_type": "stream",
          "name": "stdout",
          "text": [
            "Dictionary is not empty\n"
          ]
        }
      ]
    },
    {
      "cell_type": "code",
      "source": [
        "## question 18\n",
        "## question 19\n",
        "## not in syllabus"
      ],
      "metadata": {
        "id": "SGzYVNng8uUI"
      },
      "execution_count": null,
      "outputs": []
    },
    {
      "cell_type": "code",
      "source": [
        "## question 20\n",
        "## prints the maximum value of second half of thr list\n",
        "\n",
        "## if in first half my_list = [1, 2, 3, 4, 5, 6, 7, 8, 9, 10]\n",
        "#max_value = max(my_list[:len(my_list)//2])\n",
        "#print(\"Max value in first half:\", max_value)\n",
        "\n",
        "my_list = [1, 2, 3, 4, 5, 6, 7, 8, 9, 10]\n",
        "max_value = max(my_list[len(my_list)//2:])\n",
        "print(max_value)"
      ],
      "metadata": {
        "colab": {
          "base_uri": "https://localhost:8080/"
        },
        "id": "NPPOPnjM8uRy",
        "outputId": "6d0c2362-3caf-49dc-afd7-f405410512b1"
      },
      "execution_count": null,
      "outputs": [
        {
          "output_type": "stream",
          "name": "stdout",
          "text": [
            "10\n"
          ]
        }
      ]
    },
    {
      "cell_type": "code",
      "source": [
        "## question 21\n",
        "##  find the sum of all numbers in a list using while loop\n",
        "my_list = [1, 2, 3, 4, 5]\n",
        "total = 0\n",
        "i = 0\n",
        "while i < len(my_list):\n",
        "    total += my_list[i]\n",
        "    i += 1\n",
        "print(total)"
      ],
      "metadata": {
        "colab": {
          "base_uri": "https://localhost:8080/"
        },
        "id": "re1FKi7g8uPR",
        "outputId": "513e19a7-bdb7-44aa-93b8-9a14b9e08462"
      },
      "execution_count": null,
      "outputs": [
        {
          "output_type": "stream",
          "name": "stdout",
          "text": [
            "15\n"
          ]
        }
      ]
    },
    {
      "cell_type": "code",
      "source": [
        "## question 22\n",
        "## sum of all even numbers in a list\n",
        "\n",
        "my_list = [1, 2, 3, 4, 5, 6, 7, 8, 9, 10]\n",
        "total = 0\n",
        "for num in my_list:\n",
        "    if num % 2 == 0:\n",
        "        total += num\n",
        "print(total)\n"
      ],
      "metadata": {
        "colab": {
          "base_uri": "https://localhost:8080/"
        },
        "id": "3ty5kDXV8uNC",
        "outputId": "5aec7f08-89a1-4228-9588-6c11ed561e7d"
      },
      "execution_count": null,
      "outputs": [
        {
          "output_type": "stream",
          "name": "stdout",
          "text": [
            "30\n"
          ]
        }
      ]
    },
    {
      "cell_type": "code",
      "source": [
        "## question 23\n",
        "## reverse the list using a loop\n",
        "my_list = [1, 2, 3, 4, 5]\n",
        "reversed_list = []\n",
        "for item in my_list[::-1]:\n",
        "    reversed_list.append(item)\n",
        "print(reversed_list)\n"
      ],
      "metadata": {
        "colab": {
          "base_uri": "https://localhost:8080/"
        },
        "id": "wkD4e7ig8uKq",
        "outputId": "cc3b0ecc-648b-4589-db08-d7ad2d5f9030"
      },
      "execution_count": 45,
      "outputs": [
        {
          "output_type": "stream",
          "name": "stdout",
          "text": [
            "[5, 4, 3, 2, 1]\n"
          ]
        }
      ]
    },
    {
      "cell_type": "code",
      "source": [
        "## question 24\n",
        "## find weatrher the particular elememt is present in the lsit or not using loop\n",
        "my_list = [1, 2, 3, 4, 5]\n",
        "element = 3\n",
        "found = False\n",
        "\n",
        "for item in my_list:\n",
        "    if item == element:\n",
        "        found = True\n",
        "        print(\"Element found\")\n",
        "        break\n",
        "if not found:\n",
        "    print(\"Element not found\")\n",
        "\n",
        "\n"
      ],
      "metadata": {
        "colab": {
          "base_uri": "https://localhost:8080/"
        },
        "id": "ZS_euCKI8uIG",
        "outputId": "aa251142-f492-42c4-dae9-8b9283c32989"
      },
      "execution_count": null,
      "outputs": [
        {
          "output_type": "stream",
          "name": "stdout",
          "text": [
            "Element found\n"
          ]
        }
      ]
    },
    {
      "cell_type": "code",
      "source": [
        "## question 25\n",
        "## write a program that promots te user enter a alphabet .print all the words in the list that start with alphabets\n",
        "# List of words\n",
        "words = [\"apple\", \"banana\", \"grape\", \"avocado\", \"cherry\", \"apricot\"]\n",
        "\n",
        "# Prompt user for input\n",
        "letter = input(\"Enter an alphabet: \").lower()\n",
        "\n",
        "# Print words starting with that letter\n",
        "print(f\"Words starting with '{letter}':\")\n",
        "for word in words:\n",
        "    if word.startswith(letter):\n",
        "        print(word)\n"
      ],
      "metadata": {
        "colab": {
          "base_uri": "https://localhost:8080/"
        },
        "id": "zYTM0SxU8uDk",
        "outputId": "09032ecf-8f3a-4007-d7e5-d101803b81c8"
      },
      "execution_count": null,
      "outputs": [
        {
          "output_type": "stream",
          "name": "stdout",
          "text": [
            "Enter an alphabet: a\n",
            "Words starting with 'a':\n",
            "apple\n",
            "avocado\n",
            "apricot\n"
          ]
        }
      ]
    },
    {
      "cell_type": "code",
      "source": [
        "## question 26\n",
        "## print all consonants in a list using list comprehension\n",
        "vowels = ['a', 'e', 'i', 'o', 'u']\n",
        "string = \"Hello, World!\"\n",
        "consonants = [char for char in string if char.isalpha() and char.lower() not in vowels]\n",
        "print(consonants)\n"
      ],
      "metadata": {
        "colab": {
          "base_uri": "https://localhost:8080/"
        },
        "id": "AywWqIeO8uBE",
        "outputId": "d53e9cfb-0b6e-4e62-ef92-79210e46672a"
      },
      "execution_count": null,
      "outputs": [
        {
          "output_type": "stream",
          "name": "stdout",
          "text": [
            "['H', 'l', 'l', 'W', 'r', 'l', 'd']\n"
          ]
        }
      ]
    },
    {
      "cell_type": "code",
      "source": [
        "## 29\n",
        "lst = [1, 2, 3, 4, 3, 2, 1, 2, 4, 5, 6, 4, 2, 6, 4, 9, 8, 987]\n",
        "\n",
        "for i in set(lst):  # use set() to avoid repeating same number\n",
        "    count = lst.count(i)\n",
        "    print(f\"{i} appears {count} times in the list.\")\n",
        "\n"
      ],
      "metadata": {
        "id": "R7K17UsLc-JU",
        "colab": {
          "base_uri": "https://localhost:8080/"
        },
        "outputId": "e7e27c92-1906-4858-e3fa-eacbbfd0db49"
      },
      "execution_count": 21,
      "outputs": [
        {
          "output_type": "stream",
          "name": "stdout",
          "text": [
            "1 appears 2 times in the list.\n",
            "2 appears 4 times in the list.\n",
            "3 appears 2 times in the list.\n",
            "4 appears 4 times in the list.\n",
            "5 appears 1 times in the list.\n",
            "6 appears 2 times in the list.\n",
            "8 appears 1 times in the list.\n",
            "9 appears 1 times in the list.\n",
            "987 appears 1 times in the list.\n"
          ]
        }
      ]
    },
    {
      "cell_type": "code",
      "source": [
        "## question 30\n",
        "## insert a value in a specified location in a list using while loop\n",
        "my_= [1, 2, 3, 4, 5]\n",
        "value = 6\n",
        "index = 2\n",
        "while index < len(my_):\n",
        "    my_.insert(index, value)\n",
        "    break\n",
        "print(my_)"
      ],
      "metadata": {
        "id": "vQc6gdHbc-Dk",
        "colab": {
          "base_uri": "https://localhost:8080/"
        },
        "outputId": "18c272db-81b1-4933-db00-1ad63c2f6490"
      },
      "execution_count": 54,
      "outputs": [
        {
          "output_type": "stream",
          "name": "stdout",
          "text": [
            "[1, 2, 6, 3, 4, 5]\n"
          ]
        }
      ]
    },
    {
      "cell_type": "code",
      "source": [
        "## question 33\n",
        "# Create a list of numbers from 1 to 50\n",
        "numbers_list = list(range(1, 51))\n",
        "\n",
        "# Print the list\n",
        "print(numbers_list)"
      ],
      "metadata": {
        "id": "CrHYCP0Uc91H",
        "colab": {
          "base_uri": "https://localhost:8080/"
        },
        "outputId": "9c532b30-c0ee-4ea6-f75b-9e5c4b261248"
      },
      "execution_count": 55,
      "outputs": [
        {
          "output_type": "stream",
          "name": "stdout",
          "text": [
            "[1, 2, 3, 4, 5, 6, 7, 8, 9, 10, 11, 12, 13, 14, 15, 16, 17, 18, 19, 20, 21, 22, 23, 24, 25, 26, 27, 28, 29, 30, 31, 32, 33, 34, 35, 36, 37, 38, 39, 40, 41, 42, 43, 44, 45, 46, 47, 48, 49, 50]\n"
          ]
        }
      ]
    },
    {
      "cell_type": "code",
      "source": [
        "print('hello')"
      ],
      "metadata": {
        "id": "nwYYCeddc9yr",
        "colab": {
          "base_uri": "https://localhost:8080/"
        },
        "outputId": "4e8eab0e-c8f7-4db8-9040-e94e62a731fe"
      },
      "execution_count": 51,
      "outputs": [
        {
          "output_type": "stream",
          "name": "stdout",
          "text": [
            "hello\n"
          ]
        }
      ]
    },
    {
      "cell_type": "code",
      "source": [
        "# Remove any variable named 'list' that might be blocking the built-in\n",
        "if 'list' in globals():\n",
        "    del list\n"
      ],
      "metadata": {
        "id": "tC87lY0M0bqF"
      },
      "execution_count": 58,
      "outputs": []
    },
    {
      "cell_type": "code",
      "source": [
        "numbers_=list(range(1,51))\n",
        "print(numbers_)"
      ],
      "metadata": {
        "id": "4S9YCUmPc9wT",
        "colab": {
          "base_uri": "https://localhost:8080/"
        },
        "outputId": "38d3f065-2c9e-4be8-dfa6-101c9d043efb"
      },
      "execution_count": 59,
      "outputs": [
        {
          "output_type": "stream",
          "name": "stdout",
          "text": [
            "[1, 2, 3, 4, 5, 6, 7, 8, 9, 10, 11, 12, 13, 14, 15, 16, 17, 18, 19, 20, 21, 22, 23, 24, 25, 26, 27, 28, 29, 30, 31, 32, 33, 34, 35, 36, 37, 38, 39, 40, 41, 42, 43, 44, 45, 46, 47, 48, 49, 50]\n"
          ]
        }
      ]
    },
    {
      "cell_type": "code",
      "source": [
        "## question 32\n",
        "numbers = list(range(1, 21))\n",
        "cubes = list(map(lambda x: x**3, numbers))\n",
        "print(\"Cubes of numbers from 1 to 20:\")\n",
        "print(cubes)"
      ],
      "metadata": {
        "id": "HsqLMrrhc9t6",
        "colab": {
          "base_uri": "https://localhost:8080/"
        },
        "outputId": "49cf1d2a-26bb-4c86-a256-d5f50c7f8be3"
      },
      "execution_count": 60,
      "outputs": [
        {
          "output_type": "stream",
          "name": "stdout",
          "text": [
            "Cubes of numbers from 1 to 20:\n",
            "[1, 8, 27, 64, 125, 216, 343, 512, 729, 1000, 1331, 1728, 2197, 2744, 3375, 4096, 4913, 5832, 6859, 8000]\n"
          ]
        }
      ]
    },
    {
      "cell_type": "code",
      "source": [
        "## question 33\n",
        "nums=list(range(1,20))\n",
        "for i in nums:\n",
        "  if i%3==0:\n",
        "    nums.remove(i)\n",
        "print(nums)"
      ],
      "metadata": {
        "id": "jhwdSGznc9rb",
        "colab": {
          "base_uri": "https://localhost:8080/"
        },
        "outputId": "ac8f335f-e3a8-4fc0-a18f-627025298803"
      },
      "execution_count": 65,
      "outputs": [
        {
          "output_type": "stream",
          "name": "stdout",
          "text": [
            "[1, 2, 4, 5, 7, 8, 10, 11, 13, 14, 16, 17, 19]\n"
          ]
        }
      ]
    },
    {
      "cell_type": "code",
      "source": [
        "## question 34\n",
        "## sum of all values in a list using reduce function\n",
        "from functools import reduce\n",
        "numb = [1, 2, 3, 4, 5]\n",
        "sum_of_values = reduce(lambda x, y: x + y, numb)\n",
        "print(sum_of_values)"
      ],
      "metadata": {
        "id": "gPxmnHXdc9pH",
        "colab": {
          "base_uri": "https://localhost:8080/"
        },
        "outputId": "fe3505c9-b869-4a24-ab93-27b7674a1430"
      },
      "execution_count": 67,
      "outputs": [
        {
          "output_type": "stream",
          "name": "stdout",
          "text": [
            "15\n"
          ]
        }
      ]
    },
    {
      "cell_type": "code",
      "source": [
        "## question 35\n",
        "## program to transpose 2 matricews\n",
        "matrix1 = [[1, 2, 3], [4, 5, 6]]\n",
        "matrix2 = [[7, 8], [9, 10], [11, 12]]\n",
        "result = [[0 for _ in range(len(matrix2[0]))] for _ in range(len(matrix1))]\n",
        "for i in range(len(matrix1)):\n",
        "    for j in range(len(matrix2[0])):\n",
        "        for k in range(len(matrix2)):\n",
        "            result[i][j] += matrix1[i][k] * matrix2[k][j]\n",
        "            print(result)"
      ],
      "metadata": {
        "id": "8AbYzD4Gc9mj",
        "colab": {
          "base_uri": "https://localhost:8080/"
        },
        "outputId": "3d8be049-9e19-4860-d649-1a0f55a8ffb1"
      },
      "execution_count": 68,
      "outputs": [
        {
          "output_type": "stream",
          "name": "stdout",
          "text": [
            "[[7, 0], [0, 0]]\n",
            "[[25, 0], [0, 0]]\n",
            "[[58, 0], [0, 0]]\n",
            "[[58, 8], [0, 0]]\n",
            "[[58, 28], [0, 0]]\n",
            "[[58, 64], [0, 0]]\n",
            "[[58, 64], [28, 0]]\n",
            "[[58, 64], [73, 0]]\n",
            "[[58, 64], [139, 0]]\n",
            "[[58, 64], [139, 32]]\n",
            "[[58, 64], [139, 82]]\n",
            "[[58, 64], [139, 154]]\n"
          ]
        }
      ]
    },
    {
      "cell_type": "code",
      "source": [
        "## 36\n",
        "## program that accepts different number of arguments and returns different values passed to it\n",
        "def func(*args):\n",
        "    if len(args) == 0:\n",
        "        return None\n",
        "    elif len(args) == 1:\n",
        "        return args[0]\n",
        "    else:\n",
        "        return args\n",
        "result = func(1, 2, 3)\n",
        "print(result)"
      ],
      "metadata": {
        "id": "gYiz255Zc9kK",
        "colab": {
          "base_uri": "https://localhost:8080/"
        },
        "outputId": "9429687f-359c-44f9-8c3e-508454a6fee3"
      },
      "execution_count": 69,
      "outputs": [
        {
          "output_type": "stream",
          "name": "stdout",
          "text": [
            "(1, 2, 3)\n"
          ]
        }
      ]
    },
    {
      "cell_type": "code",
      "source": [
        "## 39 do by urself using dictonary comprehension"
      ],
      "metadata": {
        "id": "34kpcxXhc9iA"
      },
      "execution_count": null,
      "outputs": []
    },
    {
      "cell_type": "code",
      "source": [
        "## Question 40\n",
        "## using nested dictonary display the information about the employee.\n",
        "employee = {\n",
        "    \"name\": \"John Doe\",\n",
        "    \"age\": 30,\n",
        "    \"department\": {\n",
        "        \"name\": \"HR\",\n",
        "        \"location\": \"New York\"\n",
        "    },\n",
        "    \"salary\": 50000\n",
        "}\n",
        "print(employee)"
      ],
      "metadata": {
        "id": "ILb3TdFec9ff",
        "colab": {
          "base_uri": "https://localhost:8080/"
        },
        "outputId": "46ff291a-44f8-423f-a72b-fa3bf049175e"
      },
      "execution_count": 71,
      "outputs": [
        {
          "output_type": "stream",
          "name": "stdout",
          "text": [
            "{'name': 'John Doe', 'age': 30, 'department': {'name': 'HR', 'location': 'New York'}, 'salary': 50000}\n"
          ]
        }
      ]
    },
    {
      "cell_type": "code",
      "source": [
        "## 41\n",
        "import random\n",
        "x = random.sample(range(1, 101), 10) # Changed 'elements' to 'sample' for getting a list of unique elements\n",
        "print(x)\n",
        "squares=[i**2 for i in x]\n",
        "print(squares)\n",
        "\n",
        "\n"
      ],
      "metadata": {
        "id": "SGi1e2jxc9dI",
        "colab": {
          "base_uri": "https://localhost:8080/"
        },
        "outputId": "cdf58205-df4f-40bb-ea7b-62fb979abbd1"
      },
      "execution_count": 80,
      "outputs": [
        {
          "output_type": "stream",
          "name": "stdout",
          "text": [
            "[97, 22, 92, 89, 27, 85, 13, 38, 34, 99]\n",
            "[9409, 484, 8464, 7921, 729, 7225, 169, 1444, 1156, 9801]\n"
          ]
        }
      ]
    },
    {
      "cell_type": "code",
      "source": [],
      "metadata": {
        "id": "KAwKivJnc9am"
      },
      "execution_count": null,
      "outputs": []
    },
    {
      "cell_type": "code",
      "source": [],
      "metadata": {
        "id": "mmWrisR9c9Yb"
      },
      "execution_count": null,
      "outputs": []
    },
    {
      "cell_type": "code",
      "source": [],
      "metadata": {
        "id": "jR1tV754c9V4"
      },
      "execution_count": null,
      "outputs": []
    },
    {
      "cell_type": "code",
      "source": [],
      "metadata": {
        "id": "64-q6Kdec9Th"
      },
      "execution_count": null,
      "outputs": []
    },
    {
      "cell_type": "code",
      "source": [],
      "metadata": {
        "id": "wi83YlMcc9RN"
      },
      "execution_count": null,
      "outputs": []
    },
    {
      "cell_type": "code",
      "source": [],
      "metadata": {
        "id": "Htjq8AoJc9PF"
      },
      "execution_count": null,
      "outputs": []
    },
    {
      "cell_type": "code",
      "source": [],
      "metadata": {
        "id": "HZq41VMOc9Me"
      },
      "execution_count": null,
      "outputs": []
    },
    {
      "cell_type": "code",
      "source": [],
      "metadata": {
        "id": "oVGKpOjhc9KA"
      },
      "execution_count": null,
      "outputs": []
    }
  ]
}