{
  "nbformat": 4,
  "nbformat_minor": 0,
  "metadata": {
    "colab": {
      "provenance": []
    },
    "kernelspec": {
      "name": "python3",
      "display_name": "Python 3"
    },
    "language_info": {
      "name": "python"
    }
  },
  "cells": [
    {
      "cell_type": "code",
      "execution_count": 1,
      "metadata": {
        "colab": {
          "base_uri": "https://localhost:8080/",
          "height": 35
        },
        "id": "54QkVTZ3WqmC",
        "outputId": "326738a8-7c53-468d-9eeb-c119cb068bfd"
      },
      "outputs": [
        {
          "output_type": "execute_result",
          "data": {
            "text/plain": [
              "'hello test'"
            ],
            "application/vnd.google.colaboratory.intrinsic+json": {
              "type": "string"
            }
          },
          "metadata": {},
          "execution_count": 1
        }
      ],
      "source": [
        "class Name:\n",
        "  def greet(self):\n",
        "    return \"hello \"+self.name\n",
        "p1=Name()\n",
        "p1.name=\"test\"\n",
        "p1.greet()"
      ]
    },
    {
      "cell_type": "code",
      "source": [
        "class Name1:\n",
        "  def __init__(self,name):\n",
        "    self.x=name\n",
        "  def greet(self):\n",
        "    return \"hello \"+self.x\n",
        "d1=Name()\n",
        "d1.name=\"meghana\"\n",
        "d1.greet()\n"
      ],
      "metadata": {
        "colab": {
          "base_uri": "https://localhost:8080/",
          "height": 35
        },
        "id": "Sou48CyaWsAq",
        "outputId": "22c269c2-5c21-4f9a-c794-d3ba2c5f4dae"
      },
      "execution_count": 2,
      "outputs": [
        {
          "output_type": "execute_result",
          "data": {
            "text/plain": [
              "'hello meghana'"
            ],
            "application/vnd.google.colaboratory.intrinsic+json": {
              "type": "string"
            }
          },
          "metadata": {},
          "execution_count": 2
        }
      ]
    },
    {
      "cell_type": "code",
      "source": [
        "class Marks:\n",
        "  def __init__(self,marks,attendance):\n",
        "    self.marks=marks\n",
        "    self.attendance=attendance\n",
        "  def marks_grade(self):\n",
        "    if self.marks<35:\n",
        "      return \"fail\"\n",
        "    elif self.marks<60:\n",
        "      return \"3rd class\"\n",
        "    elif self.marks<90:\n",
        "      return \"first class\"\n",
        "  def attendance_grade(self):\n",
        "    if self.attendance<100:\n",
        "      return \"fail\"\n",
        "    elif self.attendance<200:\n",
        "      return \"pass\"\n",
        "\n",
        "student1=Marks(60,100)\n",
        "student1.marks_grade()\n",
        "\n"
      ],
      "metadata": {
        "colab": {
          "base_uri": "https://localhost:8080/",
          "height": 35
        },
        "id": "yDL4h2luWr9U",
        "outputId": "8797402d-5e14-4540-ebaf-d6f518ac6da2"
      },
      "execution_count": 3,
      "outputs": [
        {
          "output_type": "execute_result",
          "data": {
            "text/plain": [
              "'first class'"
            ],
            "application/vnd.google.colaboratory.intrinsic+json": {
              "type": "string"
            }
          },
          "metadata": {},
          "execution_count": 3
        }
      ]
    },
    {
      "cell_type": "code",
      "source": [
        "import math\n",
        "math.pi"
      ],
      "metadata": {
        "colab": {
          "base_uri": "https://localhost:8080/"
        },
        "id": "P8q45U6JWr63",
        "outputId": "0bcea0e9-fa60-4f18-e8db-7809ae1b9350"
      },
      "execution_count": 4,
      "outputs": [
        {
          "output_type": "execute_result",
          "data": {
            "text/plain": [
              "3.141592653589793"
            ]
          },
          "metadata": {},
          "execution_count": 4
        }
      ]
    },
    {
      "cell_type": "code",
      "source": [
        "class CircleProperties:\n",
        "  def __init__(self,r):\n",
        "    self.r=r\n",
        "  def area(self):\n",
        "    return math.pi*self.r*self.r\n",
        "  def circ(self):\n",
        "    return math.pi*2*self.r"
      ],
      "metadata": {
        "id": "gc4LRLyGWr4S"
      },
      "execution_count": 5,
      "outputs": []
    },
    {
      "cell_type": "code",
      "source": [
        "object1=CircleProperties(20)\n",
        "object1.area()"
      ],
      "metadata": {
        "colab": {
          "base_uri": "https://localhost:8080/"
        },
        "id": "lfvK5rQMWr2F",
        "outputId": "4b1f4d12-8794-4dad-ad27-110968951add"
      },
      "execution_count": 6,
      "outputs": [
        {
          "output_type": "execute_result",
          "data": {
            "text/plain": [
              "1256.6370614359173"
            ]
          },
          "metadata": {},
          "execution_count": 6
        }
      ]
    },
    {
      "cell_type": "code",
      "source": [
        "object1=CircleProperties(15)\n",
        "object1.circ()"
      ],
      "metadata": {
        "colab": {
          "base_uri": "https://localhost:8080/"
        },
        "id": "eu9ojDZGWry1",
        "outputId": "72106cb9-e184-4d08-b0bc-bb19ae096c1b"
      },
      "execution_count": 8,
      "outputs": [
        {
          "output_type": "execute_result",
          "data": {
            "text/plain": [
              "94.24777960769379"
            ]
          },
          "metadata": {},
          "execution_count": 8
        }
      ]
    },
    {
      "cell_type": "code",
      "source": [
        "object1=CircleProperties(20)\n",
        "object1.r"
      ],
      "metadata": {
        "colab": {
          "base_uri": "https://localhost:8080/"
        },
        "id": "N5aXPVblXZrI",
        "outputId": "723d8f22-d149-44de-a6fe-1abc9b59fc99"
      },
      "execution_count": 10,
      "outputs": [
        {
          "output_type": "execute_result",
          "data": {
            "text/plain": [
              "20"
            ]
          },
          "metadata": {},
          "execution_count": 10
        }
      ]
    },
    {
      "cell_type": "code",
      "source": [
        "class Marks:\n",
        "  def __init__(self,marks,attendance):\n",
        "    self.marks=marks\n",
        "    self.attendance=attendance\n",
        "\n",
        "  def attendance_grade(self):\n",
        "    if self.attendance<100:\n",
        "      return \"fail\"\n",
        "    elif self.attendance<=200:\n",
        "      return \"pass\""
      ],
      "metadata": {
        "id": "_1gZBUUnXZnv"
      },
      "execution_count": 15,
      "outputs": []
    },
    {
      "cell_type": "code",
      "source": [
        "class Car:\n",
        "    def __init__(self, brand, speed):\n",
        "        self.brand = brand\n",
        "        self.speed = speed\n",
        "\n",
        "    def accelerate(self):\n",
        "        self.speed += 40\n",
        "\n",
        "    def display(self):\n",
        "        print(f\"{self.brand} speed: {self.speed} km/h\")\n"
      ],
      "metadata": {
        "id": "rrhdGal_XZk0"
      },
      "execution_count": 12,
      "outputs": []
    },
    {
      "cell_type": "code",
      "source": [
        "car1= Car(\"Ferrari\",280)\n",
        "car1.accelerate()\n",
        "car1.display()"
      ],
      "metadata": {
        "colab": {
          "base_uri": "https://localhost:8080/"
        },
        "id": "T3o_jQMqZrt3",
        "outputId": "6771b7ec-2f25-4a03-8159-f8f4b4787479"
      },
      "execution_count": 13,
      "outputs": [
        {
          "output_type": "stream",
          "name": "stdout",
          "text": [
            "Ferrari speed: 320 km/h\n"
          ]
        }
      ]
    },
    {
      "cell_type": "code",
      "source": [
        "class BankAccount:\n",
        "    def __init__(self, holder, balance):\n",
        "        self.holder = holder\n",
        "        self.balance = balance\n",
        "\n",
        "    def deposit(self, amount):\n",
        "        self.balance += 2000\n",
        "\n",
        "    def display(self):\n",
        "        print(f\"{self.holder} Balance: {self.balance}\")"
      ],
      "metadata": {
        "id": "BO0jIzLQZrqd"
      },
      "execution_count": 1,
      "outputs": []
    },
    {
      "cell_type": "code",
      "source": [
        "account1= BankAccount(\"meghana\",3000)\n",
        "account1.deposit(2000)\n",
        "account1.display()"
      ],
      "metadata": {
        "colab": {
          "base_uri": "https://localhost:8080/"
        },
        "id": "x2g3o8klZrn8",
        "outputId": "18f88e9c-89d4-409a-e6e2-d55972606fbe"
      },
      "execution_count": 2,
      "outputs": [
        {
          "output_type": "stream",
          "name": "stdout",
          "text": [
            "meghana Balance: 5000\n"
          ]
        }
      ]
    },
    {
      "cell_type": "code",
      "source": [
        "class Book:\n",
        "    def __init__(self, title, author):\n",
        "        self.title = title\n",
        "        self.author = author\n",
        "\n",
        "    def display(self):\n",
        "        print(f\"{self.title} by {self.author}\")\n",
        "\n",
        "    def get_author(self):\n",
        "        return self.author"
      ],
      "metadata": {
        "id": "z19r9p6kZrlw"
      },
      "execution_count": 3,
      "outputs": []
    },
    {
      "cell_type": "code",
      "source": [
        "book1= Book(\"tangled\",'shyam')\n",
        "book1.get_author()\n",
        "book1.display()"
      ],
      "metadata": {
        "colab": {
          "base_uri": "https://localhost:8080/"
        },
        "id": "-paghPy2Zrjb",
        "outputId": "f34e58c1-eb2f-4151-fd91-ff8c92b63d33"
      },
      "execution_count": 7,
      "outputs": [
        {
          "output_type": "stream",
          "name": "stdout",
          "text": [
            "tangled by shyam\n"
          ]
        }
      ]
    },
    {
      "cell_type": "code",
      "source": [
        "class Temperature:\n",
        "    def __init__(self, celsius):\n",
        "        self.celsius = celsius\n",
        "\n",
        "    def to_fahrenheit(self):\n",
        "        return (self.celsius * 9/5) + 60\n",
        "\n",
        "    def display(self):\n",
        "        print(f\"{self.celsius}°C\")"
      ],
      "metadata": {
        "id": "SZAXYcMHWLEh"
      },
      "execution_count": 5,
      "outputs": []
    },
    {
      "cell_type": "code",
      "source": [
        "class1= Temperature(55)\n",
        "print(class1.to_fahrenheit())\n",
        "class1.display()"
      ],
      "metadata": {
        "colab": {
          "base_uri": "https://localhost:8080/"
        },
        "id": "ekc_eILwWLBI",
        "outputId": "555c1d6a-bb91-4594-b61e-4e52e94c22b5"
      },
      "execution_count": 6,
      "outputs": [
        {
          "output_type": "stream",
          "name": "stdout",
          "text": [
            "159.0\n",
            "55°C\n"
          ]
        }
      ]
    },
    {
      "cell_type": "code",
      "source": [],
      "metadata": {
        "id": "9LuY2b3CWK-k"
      },
      "execution_count": null,
      "outputs": []
    },
    {
      "cell_type": "code",
      "source": [],
      "metadata": {
        "id": "2MX9TjMeWK8Z"
      },
      "execution_count": null,
      "outputs": []
    },
    {
      "cell_type": "code",
      "source": [],
      "metadata": {
        "id": "np9lxA2KWK5f"
      },
      "execution_count": null,
      "outputs": []
    },
    {
      "cell_type": "code",
      "source": [],
      "metadata": {
        "id": "EF6ZjjQWWK3Y"
      },
      "execution_count": null,
      "outputs": []
    }
  ]
}