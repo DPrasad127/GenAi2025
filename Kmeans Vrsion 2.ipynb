{
 "cells": [
  {
   "cell_type": "code",
   "execution_count": 1,
   "id": "2058e56e",
   "metadata": {},
   "outputs": [
    {
     "name": "stdout",
     "output_type": "stream",
     "text": [
      "Defaulting to user installation because normal site-packages is not writeable\n",
      "Requirement already satisfied: xlrd in c:\\users\\91904\\appdata\\roaming\\python\\python313\\site-packages (2.0.2)\n",
      "Note: you may need to restart the kernel to use updated packages.\n"
     ]
    }
   ],
   "source": [
    "pip install xlrd\n"
   ]
  },
  {
   "cell_type": "code",
   "execution_count": 2,
   "id": "28cf50a2",
   "metadata": {},
   "outputs": [],
   "source": [
    "import pandas as pd\n",
    "import numpy as np\n",
    "import matplotlib.pyplot as plt\n",
    "import seaborn as sns\n",
    "from sklearn.preprocessing import StandardScaler\n",
    "from sklearn.cluster import KMeans\n",
    "from sklearn.metrics import silhouette_score, calinski_harabasz_score, davies_bouldin_score\n",
    "import warnings\n",
    "warnings.filterwarnings('ignore')"
   ]
  },
  {
   "cell_type": "code",
   "execution_count": 3,
   "id": "319920b2",
   "metadata": {},
   "outputs": [],
   "source": [
    "def load_data(path):\n",
    "    \"\"\"Load the Super Store dataset from the given path and add new columns.\"\"\"\n",
    "    df = pd.read_excel(path)\n",
    "\n",
    "    \n",
    "    df['Shipping Days'] = (df['Ship Date'] - df['Order Date']).dt.days\n",
    "\n",
    "    \n",
    "    df['Profit per Sale'] = df.apply(lambda row: row['Profit'] / row['Sales'] if row['Sales'] != 0 else 0, axis=1)\n",
    "\n",
    "    \n",
    "    df['Discount per Quantity'] = df.apply(lambda row: row['Discount'] / row['Quantity'] if row['Quantity'] != 0 else 0, axis=1)\n",
    "\n",
    "    return df"
   ]
  },
  {
   "cell_type": "code",
   "execution_count": 4,
   "id": "2cc535f8",
   "metadata": {},
   "outputs": [],
   "source": [
    "def preprocess_data(df, features):\n",
    "    X = df[features].copy()\n",
    "    X = X.dropna()\n",
    "    scaler = StandardScaler()\n",
    "    X_scaled = scaler.fit_transform(X)\n",
    "    return X_scaled, X.index\n",
    "\n",
    "def plot_elbow(X_scaled):\n",
    "    inertia = []\n",
    "    for k in range(2, 11):\n",
    "        kmeans = KMeans(n_clusters=k, random_state=42)\n",
    "        kmeans.fit(X_scaled)\n",
    "        inertia.append(kmeans.inertia_)\n",
    "    plt.figure(figsize=(8, 4))\n",
    "    plt.plot(range(2, 11), inertia, marker='o')\n",
    "    plt.xlabel('Number of clusters')\n",
    "    plt.ylabel('Inertia')\n",
    "    plt.title('Elbow Method For Optimal k')\n",
    "    plt.show()\n",
    "\n",
    "def fit_kmeans(X_scaled, n_clusters):\n",
    "    kmeans = KMeans(n_clusters=n_clusters, random_state=42)\n",
    "    labels = kmeans.fit_predict(X_scaled)\n",
    "    return labels, kmeans\n",
    "\n",
    "def evaluate_clustering(X_scaled, labels):\n",
    "    print('\\n--- Clustering Validation Metrics ---')\n",
    "    sil = silhouette_score(X_scaled, labels)\n",
    "    ch = calinski_harabasz_score(X_scaled, labels)\n",
    "    db = davies_bouldin_score(X_scaled, labels)\n",
    "    print(f'Silhouette Score: {sil:.3f}')\n",
    "    print(f'Calinski-Harabasz Index: {ch:.3f}')\n",
    "    print(f'Davies-Bouldin Index: {db:.3f}')\n",
    "\n",
    "def visualize_clusters(df, features, cluster_col):\n",
    "    sns.pairplot(df, vars=features, hue=cluster_col, palette='tab10')\n",
    "    plt.suptitle('Cluster Visualization', y=1.02)\n",
    "    plt.show()\n",
    "\n",
    "def cluster_profiling(df, features, cluster_col):\n",
    "    for c in sorted(df[cluster_col].unique()):\n",
    "        print(f'\\nCluster {c}:')\n",
    "        print(df[df[cluster_col] == c][features].describe())"
   ]
  },
  {
   "cell_type": "code",
   "execution_count": 5,
   "id": "5e0ea4ef",
   "metadata": {},
   "outputs": [],
   "source": [
    "def main():\n",
    "    data_path = 'C:\\Kmeans\\Sample - Superstore (1).xls'  \n",
    "    features = ['Sales', 'Quantity', 'Discount', 'Profit']\n",
    "\n",
    "    df = load_data(data_path)\n",
    "    X_scaled, valid_idx = preprocess_data(df, features)\n",
    "    print(' Data loaded and new columns added.')\n",
    "\n",
    "    print('\\n--- Elbow Method ---')\n",
    "    plot_elbow(X_scaled)\n",
    "\n",
    "    n_clusters = 4 \n",
    "    labels, kmeans = fit_kmeans(X_scaled, n_clusters)\n",
    "    df.loc[valid_idx, 'Cluster'] = labels\n",
    "\n",
    "    evaluate_clustering(X_scaled, labels)\n",
    "\n",
    "    print('\\n--- Cluster Means ---')\n",
    "    print(df.groupby('Cluster')[features].mean())\n",
    "\n",
    "    print('\\n--- Cluster Visualization ---')\n",
    "    visualize_clusters(df.loc[valid_idx], features, 'Cluster')\n",
    "\n",
    "    print('\\n--- Cluster Profiling ---')\n",
    "    cluster_profiling(df.loc[valid_idx], features, 'Cluster')\n",
    "\n",
    "  \n",
    "    df.to_excel('output_superstore_with_new_columns.xlsx', index=False)\n",
    "    print('\\n Output saved as: output_superstore_with_new_columns.xlsx')"
   ]
  },
  {
   "cell_type": "code",
   "execution_count": 6,
   "id": "2ec8359d",
   "metadata": {},
   "outputs": [],
   "source": [
    "if __name__ == '_main_':\n",
    "    main()"
   ]
  },
  {
   "cell_type": "code",
   "execution_count": null,
   "id": "11a83b5e",
   "metadata": {},
   "outputs": [],
   "source": []
  },
  {
   "cell_type": "code",
   "execution_count": null,
   "id": "5fa422e6",
   "metadata": {},
   "outputs": [],
   "source": []
  },
  {
   "cell_type": "code",
   "execution_count": null,
   "id": "52abb8d3",
   "metadata": {},
   "outputs": [],
   "source": []
  },
  {
   "cell_type": "code",
   "execution_count": null,
   "id": "47cd5d13",
   "metadata": {},
   "outputs": [],
   "source": []
  },
  {
   "cell_type": "code",
   "execution_count": null,
   "id": "3cbbeb78",
   "metadata": {},
   "outputs": [],
   "source": []
  },
  {
   "cell_type": "code",
   "execution_count": null,
   "id": "6f452aeb",
   "metadata": {},
   "outputs": [],
   "source": []
  }
 ],
 "metadata": {
  "kernelspec": {
   "display_name": "Python 3",
   "language": "python",
   "name": "python3"
  },
  "language_info": {
   "codemirror_mode": {
    "name": "ipython",
    "version": 3
   },
   "file_extension": ".py",
   "mimetype": "text/x-python",
   "name": "python",
   "nbconvert_exporter": "python",
   "pygments_lexer": "ipython3",
   "version": "3.13.5"
  }
 },
 "nbformat": 4,
 "nbformat_minor": 5
}
