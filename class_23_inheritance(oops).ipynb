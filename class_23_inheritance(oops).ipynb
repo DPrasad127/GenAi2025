{
  "nbformat": 4,
  "nbformat_minor": 0,
  "metadata": {
    "colab": {
      "provenance": []
    },
    "kernelspec": {
      "name": "python3",
      "display_name": "Python 3"
    },
    "language_info": {
      "name": "python"
    }
  },
  "cells": [
    {
      "cell_type": "code",
      "source": [
        "#(Single inheritance) Exercise 1"
      ],
      "metadata": {
        "id": "UcC1Z7OU-cgr"
      },
      "execution_count": null,
      "outputs": []
    },
    {
      "cell_type": "code",
      "source": [
        "# Base Class\n",
        "class Animal:\n",
        "    def __init__(self, name):\n",
        "        self.name = name\n",
        "        print(f\"[Animal] Initialized: {self.name}\")\n",
        "\n",
        "    def make_sound(self):\n",
        "        print(f\"[Animal] {self.name} is making a sound.\")\n",
        "\n",
        "\n"
      ],
      "metadata": {
        "id": "ANjyK1KatbQZ"
      },
      "execution_count": null,
      "outputs": []
    },
    {
      "cell_type": "code",
      "source": [
        "# Derived Class\n",
        "class Dog(Animal):\n",
        "    def __init__(self, name, breed):\n",
        "        Animal.__init__(self, name)\n",
        "        self.breed = breed\n",
        "        print(f\"[Dog] Initialized: {self.breed}\")\n",
        "\n",
        "    def make_sound(self):\n",
        "        print(f\"[Dog] {self.name} the {self.breed} is barking!\")\n",
        "\n",
        "\n"
      ],
      "metadata": {
        "id": "dAfjURNRtbIz"
      },
      "execution_count": null,
      "outputs": []
    },
    {
      "cell_type": "code",
      "source": [
        "# Object creation and method calls\n",
        "my_dog = Dog(\"Buddy\", \"Labrador\")\n",
        "\n",
        "my_dog.make_sound()\n",
        "my_dog.__init__(\"Max\", \"Beagle\")\n",
        "my_dog.make_sound()"
      ],
      "metadata": {
        "colab": {
          "base_uri": "https://localhost:8080/"
        },
        "id": "zlVfexX7tbF6",
        "outputId": "ed27d3b5-7d91-4f29-b5e4-da76f89a0ff0"
      },
      "execution_count": null,
      "outputs": [
        {
          "output_type": "stream",
          "name": "stdout",
          "text": [
            "[Animal] Initialized: Buddy\n",
            "[Dog] Initialized: Labrador\n",
            "[Dog] Buddy the Labrador is barking!\n",
            "[Animal] Initialized: Max\n",
            "[Dog] Initialized: Beagle\n",
            "[Dog] Max the Beagle is barking!\n"
          ]
        }
      ]
    },
    {
      "cell_type": "code",
      "source": [
        "#Exercise 2\n",
        "# Base Class\n",
        "class Fruit:\n",
        "    def __init__(self, color):\n",
        "        self.color = color\n",
        "        print(f\"[Fruit] Color: {self.color}\")\n",
        "\n",
        "    def describe(self):\n",
        "        print(f\"[Fruit] This fruit is {self.color}.\")\n",
        "\n"
      ],
      "metadata": {
        "id": "W6E3fDQHy8Mr"
      },
      "execution_count": null,
      "outputs": []
    },
    {
      "cell_type": "code",
      "source": [
        "class Apple(Fruit):\n",
        "    def __init__(self, color, taste):\n",
        "        super().__init__(color)\n",
        "        self.taste = taste\n",
        "        print(f\"[Apple] Taste: {self.taste}\")\n",
        "\n",
        "    def describe(self):\n",
        "        print(f\"[Apple] This apple tastes {self.taste}.\")"
      ],
      "metadata": {
        "id": "nScTl5gGy8J7"
      },
      "execution_count": null,
      "outputs": []
    },
    {
      "cell_type": "code",
      "source": [
        "# Object creation and method calls\n",
        "my_apple = Apple(\"Red\", \"Sweet\")\n",
        "my_apple.describe()"
      ],
      "metadata": {
        "colab": {
          "base_uri": "https://localhost:8080/"
        },
        "id": "741yDzr3y8HG",
        "outputId": "e5377c74-27a7-4196-c307-a23cd79e335b"
      },
      "execution_count": null,
      "outputs": [
        {
          "output_type": "stream",
          "name": "stdout",
          "text": [
            "[Fruit] Color: Red\n",
            "[Apple] Taste: Sweet\n",
            "[Apple] This apple tastes Sweet.\n",
            "[Apple] This apple tastes Sweet.\n"
          ]
        }
      ]
    },
    {
      "cell_type": "code",
      "source": [
        "#  Exercise 3\n",
        "# Base Class\n",
        "class Book:\n",
        "    def __init__(self, title):\n",
        "        self.title = title\n",
        "        print(f\"[Book] Title: {self.title}\")\n",
        "\n",
        "    def read(self):\n",
        "        print(f\"[Book] Reading {self.title}\")\n"
      ],
      "metadata": {
        "id": "AxdUk1aqy8Eq"
      },
      "execution_count": null,
      "outputs": []
    },
    {
      "cell_type": "code",
      "source": [
        "\n",
        "# Derived Class\n",
        "class Novel(Book):\n",
        "    def __init__(self, title, author):\n",
        "        super().__init__(title)\n",
        "        self.author = author\n",
        "        print(f\"[Novel] Author: {self.author}\")\n",
        "\n",
        "    def read(self):\n",
        "        print(f\"[Novel] {self.title} by {self.author}\")\n"
      ],
      "metadata": {
        "id": "yp3Zlr1Iy8CW"
      },
      "execution_count": null,
      "outputs": []
    },
    {
      "cell_type": "code",
      "source": [
        "# Object creation and method calls\n",
        "my_novel = Novel(\"1984\", \"George Orwell\")\n",
        "my_novel.read()"
      ],
      "metadata": {
        "colab": {
          "base_uri": "https://localhost:8080/"
        },
        "id": "LBdIRfPgy7_x",
        "outputId": "dd318425-f3b0-497d-bf80-07b1bd810a8e"
      },
      "execution_count": null,
      "outputs": [
        {
          "output_type": "stream",
          "name": "stdout",
          "text": [
            "[Book] Title: 1984\n",
            "[Novel] Author: George Orwell\n",
            "[Novel] 1984 by George Orwell\n",
            "[Novel] 1984 by George Orwell\n"
          ]
        }
      ]
    },
    {
      "cell_type": "code",
      "source": [
        "# (Multi Level Inheritance) Exercise 1"
      ],
      "metadata": {
        "id": "u_aAlWk5-UOY"
      },
      "execution_count": null,
      "outputs": []
    },
    {
      "cell_type": "code",
      "source": [
        "# Base Class\n",
        "class Vehicle:\n",
        "    def __init__(self, brand):\n",
        "        self.brand = brand\n",
        "        print(f\"[Vehicle] Initialized for brand: {self.brand}\")\n",
        "\n",
        "    def start_engine(self):\n",
        "        print(f\"[Vehicle] Starting engine of {self.brand}\")\n"
      ],
      "metadata": {
        "id": "XxDpzsLs3ETY"
      },
      "execution_count": null,
      "outputs": []
    },
    {
      "cell_type": "code",
      "source": [
        "# Derived Class (Level 2)\n",
        "class Car(Vehicle):\n",
        "    def __init__(self, brand, model):\n",
        "        super().__init__(brand)\n",
        "        self.model = model\n",
        "        print(f\"[Car] Initialized for model: {self.model}\")\n",
        "\n",
        "    def drive(self):\n",
        "        print(f\"[Car] Driving {self.brand} {self.model}\")\n",
        "\n",
        "\n",
        "# Derived Class (Level 3)\n",
        "class ElectricCar(Car):\n",
        "    def __init__(self, brand, model, battery_range):\n",
        "        super().__init__(brand, model)\n",
        "        self.battery_range = battery_range\n",
        "        print(f\"[ElectricCar] Initialized with range: {self.battery_range} km\")\n",
        "\n",
        "    def charge(self):\n",
        "        print(f\"[ElectricCar] Charging {self.brand} {self.model}... Range: {self.battery_range} km\")\n",
        "\n",
        "    def start_engine(self):\n",
        "        print(f\"[ElectricCar] No engine to start. {self.brand} {self.model} is electric!\")\n",
        "\n"
      ],
      "metadata": {
        "id": "Zebf7BH63EQQ"
      },
      "execution_count": null,
      "outputs": []
    },
    {
      "cell_type": "code",
      "source": [
        "# Object creation and method calls\n",
        "my_electric_car = ElectricCar(\"Tesla\", \"Model 3\", 500)\n",
        "\n",
        "my_electric_car.start_engine()\n",
        "my_electric_car.charge()\n"
      ],
      "metadata": {
        "colab": {
          "base_uri": "https://localhost:8080/"
        },
        "id": "njHV3gWn3EN6",
        "outputId": "b0403510-d40a-45d9-c250-6e3a48b1c9ff"
      },
      "execution_count": null,
      "outputs": [
        {
          "output_type": "stream",
          "name": "stdout",
          "text": [
            "[Vehicle] Initialized for brand: Tesla\n",
            "[Car] Initialized for model: Model 3\n",
            "[ElectricCar] Initialized with range: 500 km\n",
            "[ElectricCar] No engine to start. Tesla Model 3 is electric!\n",
            "[ElectricCar] Charging Tesla Model 3... Range: 500 km\n"
          ]
        }
      ]
    },
    {
      "cell_type": "code",
      "source": [
        "# Exercise 2"
      ],
      "metadata": {
        "id": "nxfXLJBH3ELj"
      },
      "execution_count": null,
      "outputs": []
    },
    {
      "cell_type": "code",
      "source": [
        "# Base Class\n",
        "class Device:\n",
        "    def __init__(self, name):\n",
        "        self.name = name\n",
        "        print(f\"[Device] Name: {self.name}\")\n",
        "\n",
        "    def power_on(self):\n",
        "        print(f\"[Device] Powering on {self.name}\")\n"
      ],
      "metadata": {
        "id": "ROPqlwtk3EI-"
      },
      "execution_count": null,
      "outputs": []
    },
    {
      "cell_type": "code",
      "source": [
        "# Derived Class 1\n",
        "class Computer(Device):\n",
        "    def __init__(self, name, os):\n",
        "        super().__init__(name)\n",
        "        self.os = os\n",
        "        print(f\"[Computer] OS: {self.os}\")\n",
        "\n",
        "    def boot(self):\n",
        "        print(f\"[Computer] Booting {self.name} with {self.os}\")\n",
        "\n",
        "# Derived Class 2\n",
        "class Laptop(Computer):\n",
        "    def __init__(self, name, os, version):\n",
        "        super().__init__(name, os)\n",
        "        self.version = version\n",
        "        print(f\"[Laptop] Version: {self.version}\")\n",
        "\n",
        "    def run(self):\n",
        "        print(f\"[Laptop] {self.name} running {self.os} v{self.version}\")\n"
      ],
      "metadata": {
        "id": "fh81patK3EGa"
      },
      "execution_count": null,
      "outputs": []
    },
    {
      "cell_type": "code",
      "source": [
        "# Object creation and method calls\n",
        "my_laptop = Laptop(\"ThinkPad\", \"Windows\", \"10\")\n",
        "my_laptop.power_on()\n",
        "my_laptop.boot()\n",
        "my_laptop.run()"
      ],
      "metadata": {
        "colab": {
          "base_uri": "https://localhost:8080/"
        },
        "id": "IUje7MLG3EDw",
        "outputId": "400b3767-c1b8-49ca-e1af-f274e48ec44d"
      },
      "execution_count": null,
      "outputs": [
        {
          "output_type": "stream",
          "name": "stdout",
          "text": [
            "[Device] Name: ThinkPad\n",
            "[Computer] OS: Windows\n",
            "[Laptop] Version: 10\n",
            "[Device] Powering on ThinkPad\n",
            "[Computer] Booting ThinkPad with Windows\n",
            "[Laptop] ThinkPad running Windows v10\n"
          ]
        }
      ]
    },
    {
      "cell_type": "code",
      "source": [
        "# (Multiple Inheritance ) #Exercise 1"
      ],
      "metadata": {
        "id": "j_bAeJ8e3EBG"
      },
      "execution_count": null,
      "outputs": []
    },
    {
      "cell_type": "code",
      "source": [
        "# Base Class 1\n",
        "class ___Flyer_____:\n",
        "    def __init__(self):\n",
        "        print(\"[Flyer] Can fly!\")\n",
        "    def ____fly_____(self):\n",
        "        print(\"[Flyer] Flying...\")\n",
        "\n",
        "# Base Class 2\n",
        "class ____Swimmer______:\n",
        "    def __init__(self):\n",
        "        print(\"[Swimmer] Can swim!\")\n",
        "    def ____swim______(self):\n",
        "        print(\"[Swimmer] Swimming...\")\n"
      ],
      "metadata": {
        "id": "LlX0oLej3D-w"
      },
      "execution_count": null,
      "outputs": []
    },
    {
      "cell_type": "code",
      "source": [
        "# Derived Class\n",
        "class Duck(Flyer, Swimmer):\n",
        "    def __init__(self):\n",
        "        Flyer.__init__(self)\n",
        "        Swimmer.__init__(self)\n",
        "        print(\"[Duck] Initialized!\")\n",
        "\n",
        "    def quack(self):\n",
        "        print(\"[Duck] Quacking!\")\n"
      ],
      "metadata": {
        "id": "dx-WI7523D8J"
      },
      "execution_count": null,
      "outputs": []
    },
    {
      "cell_type": "code",
      "source": [
        "# Object creation and method calls\n",
        "donald =Duck()\n",
        "donald.fly()\n",
        "donald.swim()\n",
        "donald.quack()"
      ],
      "metadata": {
        "colab": {
          "base_uri": "https://localhost:8080/"
        },
        "id": "CyQrrEms3D5k",
        "outputId": "5b9d9360-0a65-4659-cd9d-f909f9f3b6d0"
      },
      "execution_count": null,
      "outputs": [
        {
          "output_type": "stream",
          "name": "stdout",
          "text": [
            "[Flyer] Can fly!\n",
            "[Swimmer] Can swim!\n",
            "[Duck] Initialized!\n",
            "[Flyer] Flying...\n",
            "[Swimmer] Swimming...\n",
            "[Duck] Quacking!\n"
          ]
        }
      ]
    },
    {
      "cell_type": "code",
      "source": [
        "#Exercise 2"
      ],
      "metadata": {
        "id": "oI-1Pi0KGSQk"
      },
      "execution_count": null,
      "outputs": []
    },
    {
      "cell_type": "code",
      "source": [
        "# Base Class 1\n",
        "class Painter:\n",
        "    def paint(self):\n",
        "        print(\"[Painter] Painting...\")\n",
        "\n",
        "# Base Class 2\n",
        "class Singer:\n",
        "    def sing(self):\n",
        "        print(\"[Singer] Singing...\")\n",
        "\n",
        "# Derived Class\n",
        "class Artist(Painter, Singer):\n",
        "    def perform(self):\n",
        "        print(\"[Artist] Performing!\")\n",
        "\n",
        "# Object creation and method calls\n",
        "artist = Artist()\n",
        "artist.paint()\n",
        "artist.sing()\n",
        "artist.perform()\n",
        "\n"
      ],
      "metadata": {
        "colab": {
          "base_uri": "https://localhost:8080/"
        },
        "id": "3sAxIfF_GSIf",
        "outputId": "fbd4f1e5-941d-4a86-87f4-467383e57066"
      },
      "execution_count": null,
      "outputs": [
        {
          "output_type": "stream",
          "name": "stdout",
          "text": [
            "[Painter] Painting...\n",
            "[Singer] Singing...\n",
            "[Artist] Performing!\n"
          ]
        }
      ]
    },
    {
      "cell_type": "code",
      "source": [
        "# Exercise 3"
      ],
      "metadata": {
        "id": "U5eVS85aGSF4"
      },
      "execution_count": null,
      "outputs": []
    },
    {
      "cell_type": "code",
      "source": [
        "# Base Class 1\n",
        "class Walker:\n",
        "    def walk(self):\n",
        "        print(\"[Walker] Walking...\")\n",
        "\n",
        "# Base Class 2\n",
        "class Runner:\n",
        "    def run(self):\n",
        "        print(\"[Runner] Running...\")\n",
        "\n",
        "# Derived Class\n",
        "class Athlete(Walker, Runner):\n",
        "    def compete(self):\n",
        "        print(\"[Athlete] Competing!\")\n",
        "\n",
        "# Object creation and method calls\n",
        "athlete = Athlete()\n",
        "athlete.walk()\n",
        "athlete.run()\n",
        "athlete.compete()\n"
      ],
      "metadata": {
        "id": "V-28ZIf4GSDi",
        "colab": {
          "base_uri": "https://localhost:8080/"
        },
        "outputId": "47c2bab3-2dff-4185-829b-3a171313705d"
      },
      "execution_count": null,
      "outputs": [
        {
          "output_type": "stream",
          "name": "stdout",
          "text": [
            "[Walker] Walking...\n",
            "[Runner] Running...\n",
            "[Athlete] Competing!\n"
          ]
        }
      ]
    },
    {
      "cell_type": "code",
      "source": [
        "# Base Class 1\n",
        "class Walker:\n",
        "    def __init__(self):\n",
        "        print(\"[Walker] Walking...\")\n",
        "    def walk(self):\n",
        "        print(\"[Walker] Walking...\")\n",
        "\n",
        "# Base Class 2\n",
        "class Runner:\n",
        "    def __init__(self):\n",
        "        print(\"[Runner] Running...\")\n",
        "    def run(self):\n",
        "        print(\"[Runner] Running...\")\n",
        "\n",
        "# Derived Class\n",
        "class Athlete(Walker,Runner):\n",
        "    def __init__(self):\n",
        "        Walker.__init__(self)\n",
        "        Runner.__init__(self)\n",
        "        print(\"[Athlete] Competing!\")\n",
        "    def compete(self):\n",
        "        print(\"[Athlete] Competing!\")\n",
        "\n",
        "# Object creation and method calls\n",
        "athlete = Athlete()\n",
        "athlete.walk()\n",
        "athlete.run()\n",
        "athlete.compete()"
      ],
      "metadata": {
        "colab": {
          "base_uri": "https://localhost:8080/"
        },
        "id": "AxzPCVGdMF8y",
        "outputId": "2a4633fc-45d3-4b4e-9a5f-9b6b5e3279b8"
      },
      "execution_count": null,
      "outputs": [
        {
          "output_type": "stream",
          "name": "stdout",
          "text": [
            "[Walker] Walking...\n",
            "[Runner] Running...\n",
            "[Athlete] Competing!\n",
            "[Walker] Walking...\n",
            "[Runner] Running...\n",
            "[Athlete] Competing!\n"
          ]
        }
      ]
    },
    {
      "cell_type": "code",
      "source": [
        "# (Hierarchical Inheritance) Exrecise 1"
      ],
      "metadata": {
        "id": "foiewATsMF5U"
      },
      "execution_count": null,
      "outputs": []
    },
    {
      "cell_type": "code",
      "source": [
        "# Base Class\n",
        "class Shape:\n",
        "    def __init__(self, name):\n",
        "        self.name = name\n",
        "        print(f\"[Shape] Initialized: {self.name}\")\n",
        "\n",
        "    def Shape(self):\n",
        "        print(f\"[Shape] Drawing {self.name}\")\n"
      ],
      "metadata": {
        "id": "RdVGFiNUMF2x"
      },
      "execution_count": null,
      "outputs": []
    },
    {
      "cell_type": "code",
      "source": [
        "# Derived Class 1\n",
        "class Circle(Shape):\n",
        "    def __init__(self, name, radius):\n",
        "        super().__init__(name)\n",
        "        self.radius = radius\n",
        "        print(f\"[Circle] Radius: {self.radius}\")\n",
        "\n",
        "    def Circle(self):\n",
        "        print(f\"[Circle] Area: {3.14 * self.radius * self.radius}\")"
      ],
      "metadata": {
        "id": "Aw6YF-WNONE-"
      },
      "execution_count": null,
      "outputs": []
    },
    {
      "cell_type": "code",
      "source": [
        "# Derived Class 2\n",
        "class Square(Shape):\n",
        "    def __init__(self, name, side):\n",
        "        super().__init__(name)\n",
        "        self.side = side\n",
        "        print(f\"[Square] Side: {self.side}\")\n",
        "\n",
        "    def Square(self):\n",
        "        print(f\"[Square] Area: {self.side * self.side}\")"
      ],
      "metadata": {
        "id": "z4ZNkJW7ONBl"
      },
      "execution_count": null,
      "outputs": []
    },
    {
      "cell_type": "code",
      "source": [
        "# Base Class\n",
        "class Shape:\n",
        "    def __init__(self, name):\n",
        "        self.name = name\n",
        "        print(f\"[Shape] Initialized: {self.name}\")\n",
        "\n",
        "    def draw(self):\n",
        "        print(f\"[Shape] Drawing {self.name}\")\n",
        "\n",
        "# Derived Class 1\n",
        "class Circle(Shape):\n",
        "    def __init__(self, name, radius):\n",
        "        super().__init__(name)\n",
        "        self.radius = radius\n",
        "        print(f\"[Circle] Radius: {self.radius}\")\n",
        "\n",
        "    def area(self):\n",
        "        print(f\"[Circle] Area: {3.14 * self.radius * self.radius}\")\n",
        "\n",
        "# Derived Class 2\n",
        "class Square(Shape):\n",
        "    def __init__(self, name, side):\n",
        "        super().__init__(name)\n",
        "        self.side = side\n",
        "        print(f\"[Square] Side: {self.side}\")\n",
        "\n",
        "    def area(self):\n",
        "        print(f\"[Square] Area: {self.side * self.side}\")\n",
        "\n",
        "# Object creation and method calls\n",
        "c = Circle(\"Circle\", 5)\n",
        "s = Square(\"Square\", 4)\n",
        "c.draw()\n",
        "c.area()\n",
        "s.draw()\n",
        "s.area()\n",
        "\n"
      ],
      "metadata": {
        "colab": {
          "base_uri": "https://localhost:8080/"
        },
        "id": "kP01A3LROM_Z",
        "outputId": "973dfb79-9b93-44cf-a564-a7b0722228d3"
      },
      "execution_count": null,
      "outputs": [
        {
          "output_type": "stream",
          "name": "stdout",
          "text": [
            "[Shape] Initialized: Circle\n",
            "[Circle] Radius: 5\n",
            "[Shape] Initialized: Square\n",
            "[Square] Side: 4\n",
            "[Shape] Drawing Circle\n",
            "[Circle] Area: 78.5\n",
            "[Shape] Drawing Square\n",
            "[Square] Area: 16\n"
          ]
        }
      ]
    },
    {
      "cell_type": "code",
      "source": [
        "# Exercise 2"
      ],
      "metadata": {
        "id": "LIkzsNqcOM9H"
      },
      "execution_count": null,
      "outputs": []
    },
    {
      "cell_type": "code",
      "source": [
        "# Base Class\n",
        "class Employee:\n",
        "    def __init__(self, name):\n",
        "        self.name = name\n",
        "        print(f\"[Employee] Name: {self.name}\")\n",
        "\n",
        "    def work(self):\n",
        "        print(f\"[Employee] Working: {self.name}\")\n",
        "\n",
        "# Derived Class 1\n",
        "class Manager(Employee):\n",
        "    def __init__(self, name, department):\n",
        "        super().__init__(name)\n",
        "        self.department = department\n",
        "        print(f\"[Manager] Department: {self.department}\")\n",
        "\n",
        "    def manage(self):\n",
        "        print(f\"[Manager] Managing {self.department}\")\n",
        "\n",
        "# Derived Class 2\n",
        "class Developer(Employee):\n",
        "    def __init__(self, name, project):\n",
        "        super().__init__(name)\n",
        "        self.project = project\n",
        "        print(f\"[Developer] Project: {self.project}\")\n",
        "\n",
        "    def code(self):\n",
        "        print(f\"[Developer] Coding for {self.project}\")\n",
        "\n",
        "# Object creation and method calls\n",
        "mgr = Manager(\"Alice\", \"HR\")\n",
        "dev = Developer(\"Bob\", \"AI\")\n",
        "mgr.manage()\n",
        "mgr.work()\n",
        "dev.code()\n",
        "dev.work()"
      ],
      "metadata": {
        "id": "ivPZKIEjOM60",
        "colab": {
          "base_uri": "https://localhost:8080/"
        },
        "outputId": "8c50243f-253d-4260-834a-31052a75b602"
      },
      "execution_count": null,
      "outputs": [
        {
          "output_type": "stream",
          "name": "stdout",
          "text": [
            "[Employee] Name: Alice\n",
            "[Manager] Department: HR\n",
            "[Employee] Name: Bob\n",
            "[Developer] Project: AI\n",
            "[Manager] Managing HR\n",
            "[Employee] Working: Alice\n",
            "[Developer] Coding for AI\n",
            "[Employee] Working: Bob\n"
          ]
        }
      ]
    },
    {
      "cell_type": "code",
      "source": [
        "# Exercise 3"
      ],
      "metadata": {
        "id": "0dDmPXWxU2bj"
      },
      "execution_count": null,
      "outputs": []
    },
    {
      "cell_type": "code",
      "source": [
        "class Vehicle:\n",
        "    def __init__(self, name):\n",
        "        self.name = name\n",
        "        print(f\"[Vehicle] Name: {self.name}\")\n",
        "\n",
        "    def move(self):\n",
        "        print(f\"[Vehicle] Moving: {self.name}\")\n",
        "\n",
        "class Bike(Vehicle):\n",
        "    def __init__(self, name, wheels):\n",
        "        super().__init__(name)\n",
        "        self.wheels = wheels\n",
        "        print(f\"[Bike] Wheels: {self.wheels}\")\n",
        "\n",
        "    def ride(self):\n",
        "        print(f\"[Bike] Riding with {self.wheels} wheels\")\n",
        "\n",
        "\n",
        "class Bus(Vehicle):\n",
        "    def __init__(self, name, seats):\n",
        "        super().__init__(name)\n",
        "        self.seats = seats\n",
        "        print(f\"[Bus] Seats: {self.seats}\")\n",
        "\n",
        "    def carry(self):\n",
        "        print(f\"[Bus] Carrying {self.seats} passengers\")\n",
        "\n",
        "bike = Bike(\"MountainBike\", 2)\n",
        "bus = Bus(\"CityBus\", 40)\n",
        "bike.move()\n",
        "bike.ride()\n",
        "bus.move()\n",
        "bus.carry()\n"
      ],
      "metadata": {
        "id": "l38sLv_cOM4h",
        "colab": {
          "base_uri": "https://localhost:8080/"
        },
        "outputId": "3bd094fb-989c-4786-da7c-6fa07bcb3daa"
      },
      "execution_count": null,
      "outputs": [
        {
          "output_type": "stream",
          "name": "stdout",
          "text": [
            "[Vehicle] Name: MountainBike\n",
            "[Bike] Wheels: 2\n",
            "[Vehicle] Name: CityBus\n",
            "[Bus] Seats: 40\n",
            "[Vehicle] Moving: MountainBike\n",
            "[Bike] Riding with 2 wheels\n",
            "[Vehicle] Moving: CityBus\n",
            "[Bus] Carrying 40 passengers\n"
          ]
        }
      ]
    },
    {
      "cell_type": "code",
      "source": [
        "# (Hybrid Inheritance) Exercise 1"
      ],
      "metadata": {
        "id": "Eg6RsJxmfIcN"
      },
      "execution_count": null,
      "outputs": []
    },
    {
      "cell_type": "code",
      "source": [
        "# Base Class\n",
        "class Person:\n",
        "    def __init__(self, name):\n",
        "        self.name = name\n",
        "        print(f\"[Person] Initialized: {self.name}\")\n",
        "\n",
        "# Parent Class 1\n",
        "class Employee:\n",
        "    def work(self):\n",
        "        print(\"[Employee] Working...\")\n",
        "\n",
        "# Parent Class 2\n",
        "class Student:\n",
        "    def study(self):\n",
        "        print(\"[Student] Studying...\")\n",
        "\n",
        "# Derived Class (Hybrid)\n",
        "class Intern(Person, Employee, Student):\n",
        "    def __init__(self, name):\n",
        "        Person.__init__(self, name)\n",
        "        print(\"[Intern] Initialized!\")\n",
        "\n",
        "    def intern(self):\n",
        "        print(f\"[Intern] {self.name} is interning!\")\n",
        "\n",
        "# Object creation and method calls\n",
        "intern = Intern(\"Alice\")\n",
        "intern.intern()\n",
        "intern.work()\n",
        "intern.study()"
      ],
      "metadata": {
        "colab": {
          "base_uri": "https://localhost:8080/"
        },
        "id": "xx6IFcf0fDCy",
        "outputId": "22608c1e-062c-4db1-e2b2-c38352165232"
      },
      "execution_count": 6,
      "outputs": [
        {
          "output_type": "stream",
          "name": "stdout",
          "text": [
            "[Person] Initialized: Alice\n",
            "[Intern] Initialized!\n",
            "[Intern] Alice is interning!\n",
            "[Employee] Working...\n",
            "[Student] Studying...\n"
          ]
        }
      ]
    },
    {
      "cell_type": "code",
      "source": [
        "#Exercise 2"
      ],
      "metadata": {
        "id": "WRRVAQnbfC_c"
      },
      "execution_count": null,
      "outputs": []
    },
    {
      "cell_type": "code",
      "source": [
        "# Base Class\n",
        "class Account:\n",
        "    def __init__(self, id):\n",
        "        self.id = id\n",
        "        print(f\"[Account] ID: {self.id}\")\n",
        "\n",
        "# Parent Class 1\n",
        "class Buyer:\n",
        "    def buy(self):\n",
        "        print(\"[Buyer] Buying...\")\n",
        "\n",
        "# Parent Class 2\n",
        "class Seller:\n",
        "    def sell(self):\n",
        "        print(\"[Seller] Selling...\")\n",
        "\n",
        "# Derived Class (Hybrid)\n",
        "class MarketplaceUser(Account, Buyer, Seller):\n",
        "    def __init__(self, id):\n",
        "        Account.__init__(self, id)\n",
        "        print(\"[MarketplaceUser] Initialized!\")\n",
        "\n",
        "    def is_active(self):\n",
        "        print(f\"[MarketplaceUser] User {self.id} is active!\")\n",
        "\n",
        "# Object creation and method calls\n",
        "user = MarketplaceUser(101)\n",
        "user.buy()\n",
        "user.sell()\n",
        "user.is_active()"
      ],
      "metadata": {
        "colab": {
          "base_uri": "https://localhost:8080/"
        },
        "id": "yHrVz3tJfC8y",
        "outputId": "ffaa4777-0b60-422a-e13a-fa0dc70513b2"
      },
      "execution_count": 7,
      "outputs": [
        {
          "output_type": "stream",
          "name": "stdout",
          "text": [
            "[Account] ID: 101\n",
            "[MarketplaceUser] Initialized!\n",
            "[Buyer] Buying...\n",
            "[Seller] Selling...\n",
            "[MarketplaceUser] User 101 is active!\n"
          ]
        }
      ]
    },
    {
      "cell_type": "code",
      "source": [
        "#Exercise 3"
      ],
      "metadata": {
        "id": "YNNnt2zAiifW"
      },
      "execution_count": null,
      "outputs": []
    },
    {
      "cell_type": "code",
      "source": [
        "# Base Class\n",
        "class Device:\n",
        "    def __init__(self, name):\n",
        "        self.name = name\n",
        "        print(f\"[Device] Name: {self.name}\")\n",
        "\n",
        "# Parent Class 1\n",
        "class Camera:\n",
        "    def take(self):\n",
        "        print(\"[Camera] Taking photo...\")\n",
        "\n",
        "# Parent Class 2\n",
        "class Phone:\n",
        "    def make(self):\n",
        "        print(\"[Phone] Making call...\")\n",
        "\n",
        "# Derived Class (Hybrid)\n",
        "class Smartphone(Device, Camera, Phone):\n",
        "    def __init__(self, name):\n",
        "        Device.__init__(self, name)\n",
        "        print(\"[Smartphone] Ready!\")\n",
        "\n",
        "    def is_smart(self):\n",
        "        print(f\"[Smartphone] {self.name} is smart!\")\n",
        "\n",
        "# Object creation and method calls\n",
        "sp = Smartphone(\"Pixel\")\n",
        "sp.make()\n",
        "sp.take()\n",
        "sp.is_smart()"
      ],
      "metadata": {
        "colab": {
          "base_uri": "https://localhost:8080/"
        },
        "id": "aGzrZHYxfC6T",
        "outputId": "c6857738-ace3-4c54-cb64-179609d5012a"
      },
      "execution_count": 9,
      "outputs": [
        {
          "output_type": "stream",
          "name": "stdout",
          "text": [
            "[Device] Name: Pixel\n",
            "[Smartphone] Ready!\n",
            "[Phone] Making call...\n",
            "[Camera] Taking photo...\n",
            "[Smartphone] Pixel is smart!\n"
          ]
        }
      ]
    },
    {
      "cell_type": "code",
      "source": [],
      "metadata": {
        "id": "_YbPDiX9fC33"
      },
      "execution_count": null,
      "outputs": []
    }
  ]
}