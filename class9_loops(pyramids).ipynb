{
  "nbformat": 4,
  "nbformat_minor": 0,
  "metadata": {
    "colab": {
      "provenance": []
    },
    "kernelspec": {
      "name": "python3",
      "display_name": "Python 3"
    },
    "language_info": {
      "name": "python"
    }
  },
  "cells": [
    {
      "cell_type": "code",
      "execution_count": 1,
      "metadata": {
        "id": "cviQmMyqjSD9"
      },
      "outputs": [],
      "source": [
        "### pyramid structures of loops"
      ]
    },
    {
      "cell_type": "code",
      "source": [
        "\n",
        "for i in range(10):\n",
        "  print(i*\"*\" + \" \"*(10-i) + (\" \"*(10-i)+ i*\"*\"))\n",
        "for i in range(11):\n",
        "  print((\"*\"*(10-i)+ i*\" \") + (i*\" \"+\"*\"*(10-i)))"
      ],
      "metadata": {
        "colab": {
          "base_uri": "https://localhost:8080/"
        },
        "id": "xnWB0UaRjTWL",
        "outputId": "46cb6147-b203-4cbe-9a11-1be14e51badb"
      },
      "execution_count": 2,
      "outputs": [
        {
          "output_type": "stream",
          "name": "stdout",
          "text": [
            "                    \n",
            "*                  *\n",
            "**                **\n",
            "***              ***\n",
            "****            ****\n",
            "*****          *****\n",
            "******        ******\n",
            "*******      *******\n",
            "********    ********\n",
            "*********  *********\n",
            "********************\n",
            "*********  *********\n",
            "********    ********\n",
            "*******      *******\n",
            "******        ******\n",
            "*****          *****\n",
            "****            ****\n",
            "***              ***\n",
            "**                **\n",
            "*                  *\n",
            "                    \n"
          ]
        }
      ]
    },
    {
      "cell_type": "code",
      "source": [
        "for i in range(1,10):\n",
        "  print((\" *\"*i).center(20,\" \"))\n",
        ""
      ],
      "metadata": {
        "colab": {
          "base_uri": "https://localhost:8080/"
        },
        "id": "tZzEBKzLjTS3",
        "outputId": "7e8b9069-8c8a-40dd-9614-8ff80c2a0552"
      },
      "execution_count": 3,
      "outputs": [
        {
          "output_type": "stream",
          "name": "stdout",
          "text": [
            "          *         \n",
            "         * *        \n",
            "        * * *       \n",
            "       * * * *      \n",
            "      * * * * *     \n",
            "     * * * * * *    \n",
            "    * * * * * * *   \n",
            "   * * * * * * * *  \n",
            "  * * * * * * * * * \n"
          ]
        }
      ]
    },
    {
      "cell_type": "code",
      "source": [
        "\n",
        "for i in range(1,10):\n",
        "  print((\" *\"*i).center(20,\" \"))\n",
        "for i in range(10,0,-1):\n",
        "  print((\" *\"*i).center(20,\" \"))"
      ],
      "metadata": {
        "colab": {
          "base_uri": "https://localhost:8080/"
        },
        "id": "qAdNRO7-jTP9",
        "outputId": "e39de32a-099e-4915-c6fc-4a72d67fd494"
      },
      "execution_count": 4,
      "outputs": [
        {
          "output_type": "stream",
          "name": "stdout",
          "text": [
            "          *         \n",
            "         * *        \n",
            "        * * *       \n",
            "       * * * *      \n",
            "      * * * * *     \n",
            "     * * * * * *    \n",
            "    * * * * * * *   \n",
            "   * * * * * * * *  \n",
            "  * * * * * * * * * \n",
            " * * * * * * * * * *\n",
            "  * * * * * * * * * \n",
            "   * * * * * * * *  \n",
            "    * * * * * * *   \n",
            "     * * * * * *    \n",
            "      * * * * *     \n",
            "       * * * *      \n",
            "        * * *       \n",
            "         * *        \n",
            "          *         \n"
          ]
        }
      ]
    },
    {
      "cell_type": "code",
      "source": [
        "\n",
        "for i in range(10,1,-1):\n",
        "  print((\" *\"*i).center(20,\" \"))\n",
        "for i in range(1,10):\n",
        "  print((\" *\"*i).center(20,\" \"))\n",
        ""
      ],
      "metadata": {
        "colab": {
          "base_uri": "https://localhost:8080/"
        },
        "id": "kg770qhwjTNn",
        "outputId": "a1a22957-39bd-4f00-9e6e-d712b1107a7e"
      },
      "execution_count": 5,
      "outputs": [
        {
          "output_type": "stream",
          "name": "stdout",
          "text": [
            " * * * * * * * * * *\n",
            "  * * * * * * * * * \n",
            "   * * * * * * * *  \n",
            "    * * * * * * *   \n",
            "     * * * * * *    \n",
            "      * * * * *     \n",
            "       * * * *      \n",
            "        * * *       \n",
            "         * *        \n",
            "          *         \n",
            "         * *        \n",
            "        * * *       \n",
            "       * * * *      \n",
            "      * * * * *     \n",
            "     * * * * * *    \n",
            "    * * * * * * *   \n",
            "   * * * * * * * *  \n",
            "  * * * * * * * * * \n"
          ]
        }
      ]
    },
    {
      "cell_type": "code",
      "metadata": {
        "colab": {
          "base_uri": "https://localhost:8080/"
        },
        "id": "5201f0af",
        "outputId": "cf1915e6-ff7b-4ecb-e739-4b68db37943f"
      },
      "source": [
        "def hollow_diamond(rows):\n",
        "    for i in range(1, rows + 1):\n",
        "        if i == 1:\n",
        "            print(\" \" * (rows - i) + \"*\")\n",
        "        else:\n",
        "            print(\" \" * (rows - i) + \"*\" + \" \" * (2 * i - 3) + \"*\")\n",
        "    for i in range(rows - 1, 0, -1):\n",
        "        if i == 1:\n",
        "            print(\" \" * (rows - i) + \"*\")\n",
        "        else:\n",
        "            print(\" \" * (rows - i) + \"*\" + \" \" * (2 * i - 3) + \"*\")\n",
        "\n",
        "hollow_diamond(10)\n",
        ""
      ],
      "execution_count": 15,
      "outputs": [
        {
          "output_type": "stream",
          "name": "stdout",
          "text": [
            "         *\n",
            "        * *\n",
            "       *   *\n",
            "      *     *\n",
            "     *       *\n",
            "    *         *\n",
            "   *           *\n",
            "  *             *\n",
            " *               *\n",
            "*                 *\n",
            " *               *\n",
            "  *             *\n",
            "   *           *\n",
            "    *         *\n",
            "     *       *\n",
            "      *     *\n",
            "       *   *\n",
            "        * *\n",
            "         *\n"
          ]
        }
      ]
    },
    {
      "cell_type": "code",
      "source": [
        "n = 10\n",
        "for i in range(1,n+1):\n",
        "    print(\" \"*(n - i),end=\"\")\n",
        "    for j in range(1,i+1):\n",
        "        print(j, end=\" \")\n",
        "    print()"
      ],
      "metadata": {
        "colab": {
          "base_uri": "https://localhost:8080/"
        },
        "id": "e3vczmVkkrlP",
        "outputId": "c8dc370f-e1c4-4aba-e705-d7f63ece6c6f"
      },
      "execution_count": 17,
      "outputs": [
        {
          "output_type": "stream",
          "name": "stdout",
          "text": [
            "         1 \n",
            "        1 2 \n",
            "       1 2 3 \n",
            "      1 2 3 4 \n",
            "     1 2 3 4 5 \n",
            "    1 2 3 4 5 6 \n",
            "   1 2 3 4 5 6 7 \n",
            "  1 2 3 4 5 6 7 8 \n",
            " 1 2 3 4 5 6 7 8 9 \n",
            "1 2 3 4 5 6 7 8 9 10 \n"
          ]
        }
      ]
    },
    {
      "cell_type": "code",
      "metadata": {
        "colab": {
          "base_uri": "https://localhost:8080/"
        },
        "id": "6713f143",
        "outputId": "517a568d-7e3c-45f1-d016-5c2e35f11084"
      },
      "source": [
        "rows = 10\n",
        "cols = 10\n",
        "for i in range(rows):\n",
        "    for j in range(cols):\n",
        "        if (i + j) % 2 == 0:\n",
        "            print(\"#\", end=\" \")\n",
        "        else:\n",
        "            print(\".\", end=\" \")\n",
        "    print()"
      ],
      "execution_count": 20,
      "outputs": [
        {
          "output_type": "stream",
          "name": "stdout",
          "text": [
            "# . # . # . # . # . \n",
            ". # . # . # . # . # \n",
            "# . # . # . # . # . \n",
            ". # . # . # . # . # \n",
            "# . # . # . # . # . \n",
            ". # . # . # . # . # \n",
            "# . # . # . # . # . \n",
            ". # . # . # . # . # \n",
            "# . # . # . # . # . \n",
            ". # . # . # . # . # \n"
          ]
        }
      ]
    }
  ]
}