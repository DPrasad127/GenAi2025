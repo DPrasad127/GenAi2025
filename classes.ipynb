{
  "nbformat": 4,
  "nbformat_minor": 0,
  "metadata": {
    "colab": {
      "provenance": []
    },
    "kernelspec": {
      "name": "python3",
      "display_name": "Python 3"
    },
    "language_info": {
      "name": "python"
    }
  },
  "cells": [
    {
      "cell_type": "code",
      "execution_count": 1,
      "metadata": {
        "colab": {
          "base_uri": "https://localhost:8080/"
        },
        "id": "enNHv4ZMa5NU",
        "outputId": "34d0831c-b754-4c83-8a54-97386c9aceac"
      },
      "outputs": [
        {
          "output_type": "stream",
          "name": "stdout",
          "text": [
            "Spicy Villa\n",
            "Indian\n",
            "Restaurant Name: Spicy Villa\n",
            "Cuisine Type: Indian\n",
            "Spicy Villa is now open!\n"
          ]
        }
      ],
      "source": [
        "class Restaurant:\n",
        "    def __init__(self, restaurant_name, cuisine_type):\n",
        "        self.restaurant_name = restaurant_name\n",
        "        self.cuisine_type = cuisine_type\n",
        "\n",
        "    def describe_restaurant(self):\n",
        "        print(f\"Restaurant Name: {self.restaurant_name}\")\n",
        "        print(f\"Cuisine Type: {self.cuisine_type}\")\n",
        "\n",
        "    def open_restaurant(self):\n",
        "        print(f\"{self.restaurant_name} is now open!\")\n",
        "\n",
        "# Creating an instance of the Restaurant class\n",
        "restaurant = Restaurant(\"Spicy Villa\", \"Indian\")\n",
        "\n",
        "# Printing attributes individually\n",
        "print(restaurant.restaurant_name)\n",
        "print(restaurant.cuisine_type)\n",
        "\n",
        "# Calling the methods\n",
        "restaurant.describe_restaurant()\n",
        "restaurant.open_restaurant()\n"
      ]
    },
    {
      "cell_type": "code",
      "source": [
        "class Restaurant:\n",
        "    def __init__(self, restaurant_name, cuisine_type):\n",
        "        self.restaurant_name = restaurant_name\n",
        "        self.cuisine_type = cuisine_type\n",
        "\n",
        "    def describe_restaurant(self):\n",
        "        print(f\"Restaurant Name: {self.restaurant_name}\")\n",
        "        print(f\"Cuisine Type: {self.cuisine_type}\")\n",
        "        print(\"-\" * 30)\n",
        "\n",
        "# Creating three different instances\n",
        "restaurant1 = Restaurant(\"Spicy Villa\", \"Indian\")\n",
        "restaurant2 = Restaurant(\"Sakura Sushi\", \"Japanese\")\n",
        "restaurant3 = Restaurant(\"La Pizzeria\", \"Italian\")\n",
        "\n",
        "# Calling describe_restaurant() for each\n",
        "restaurant1.describe_restaurant()\n",
        "restaurant2.describe_restaurant()\n",
        "restaurant3.describe_restaurant()\n"
      ],
      "metadata": {
        "colab": {
          "base_uri": "https://localhost:8080/"
        },
        "id": "ZlJeODSjbAqt",
        "outputId": "ee987e6c-d661-4684-fc9d-99670a15a5a3"
      },
      "execution_count": 2,
      "outputs": [
        {
          "output_type": "stream",
          "name": "stdout",
          "text": [
            "Restaurant Name: Spicy Villa\n",
            "Cuisine Type: Indian\n",
            "------------------------------\n",
            "Restaurant Name: Sakura Sushi\n",
            "Cuisine Type: Japanese\n",
            "------------------------------\n",
            "Restaurant Name: La Pizzeria\n",
            "Cuisine Type: Italian\n",
            "------------------------------\n"
          ]
        }
      ]
    },
    {
      "cell_type": "code",
      "source": [
        "class User:\n",
        "    def __init__(self, first_name, last_name, age, email, location):\n",
        "        self.first_name = first_name\n",
        "        self.last_name = last_name\n",
        "        self.age = age\n",
        "        self.email = email\n",
        "        self.location = location\n",
        "\n",
        "    def describe_user(self):\n",
        "        print(f\"User Profile:\")\n",
        "        print(f\"Name      : {self.first_name} {self.last_name}\")\n",
        "        print(f\"Age       : {self.age}\")\n",
        "        print(f\"Email     : {self.email}\")\n",
        "        print(f\"Location  : {self.location}\")\n",
        "        print(\"-\" * 30)\n",
        "\n",
        "    def greet_user(self):\n",
        "        print(f\"Hello, {self.first_name} {self.last_name}! Welcome back.\\n\")\n",
        "\n",
        "# Creating instances of User\n",
        "user1 = User(\"Alice\", \"Johnson\", 28, \"alice.j@example.com\", \"New York\")\n",
        "user2 = User(\"Ravi\", \"Kumar\", 32, \"ravi.kumar@example.com\", \"Mumbai\")\n",
        "user3 = User(\"Lina\", \"Chen\", 24, \"lina.chen@example.com\", \"Beijing\")\n",
        "\n",
        "# Calling methods for each user\n",
        "user1.describe_user()\n",
        "user1.greet_user()\n",
        "\n",
        "user2.describe_user()\n",
        "user2.greet_user()\n",
        "\n",
        "user3.describe_user()\n",
        "user3.greet_user()\n"
      ],
      "metadata": {
        "colab": {
          "base_uri": "https://localhost:8080/"
        },
        "id": "RRGH70bYbAnW",
        "outputId": "3d16888a-735b-4142-c85d-3cfc534ec66d"
      },
      "execution_count": 3,
      "outputs": [
        {
          "output_type": "stream",
          "name": "stdout",
          "text": [
            "User Profile:\n",
            "Name      : Alice Johnson\n",
            "Age       : 28\n",
            "Email     : alice.j@example.com\n",
            "Location  : New York\n",
            "------------------------------\n",
            "Hello, Alice Johnson! Welcome back.\n",
            "\n",
            "User Profile:\n",
            "Name      : Ravi Kumar\n",
            "Age       : 32\n",
            "Email     : ravi.kumar@example.com\n",
            "Location  : Mumbai\n",
            "------------------------------\n",
            "Hello, Ravi Kumar! Welcome back.\n",
            "\n",
            "User Profile:\n",
            "Name      : Lina Chen\n",
            "Age       : 24\n",
            "Email     : lina.chen@example.com\n",
            "Location  : Beijing\n",
            "------------------------------\n",
            "Hello, Lina Chen! Welcome back.\n",
            "\n"
          ]
        }
      ]
    },
    {
      "cell_type": "code",
      "source": [
        "## 9-4. Number Served: Start with your program from Exercise 9-1 (page 162).\n",
        "## Add an attribute called number_served with a default value of 0. Create an\n",
        "## instance called restaurant from this class. Print the number of customers the\n",
        "## restaurant has served, and then change this value and print it again.\n",
        "## Classes   167\n",
        "## Add a method called set_number_served() that lets you set the number of\n",
        "## customers that have been served. Call this method with a new number and print\n",
        "##the value again.\n",
        "## Add a method called increment_number_served() that lets you increment\n",
        "## the number of customers who’ve been served. Call this method with any number\n",
        "## you like that could represent how many customers were served in, say, a day of\n",
        "\n",
        "\n",
        "class Restaurant:\n",
        "    def __init__(self, restaurant_name, cuisine_type):\n",
        "        self.restaurant_name = restaurant_name\n",
        "        self.cuisine_type = cuisine_type\n",
        "        self.number_served = 0  # Default value\n",
        "\n",
        "    def describe_restaurant(self):\n",
        "        print(f\"Restaurant Name: {self.restaurant_name}\")\n",
        "        print(f\"Cuisine Type: {self.cuisine_type}\")\n",
        "\n",
        "    def open_restaurant(self):\n",
        "        print(f\"{self.restaurant_name} is now open!\")\n",
        "\n",
        "    def set_number_served(self, number):\n",
        "        if number >= 0:\n",
        "            self.number_served = number\n",
        "        else:\n",
        "            print(\"Number served cannot be negative.\")\n",
        "\n",
        "    def increment_number_served(self, additional_customers):\n",
        "        if additional_customers >= 0:\n",
        "            self.number_served += additional_customers\n",
        "        else:\n",
        "            print(\"Cannot increment by a negative number.\")\n",
        "\n",
        "# Creating an instance\n",
        "restaurant = Restaurant(\"Spicy Villa\", \"Indian\")\n",
        "\n",
        "# Initial number served\n",
        "print(f\"Customers served: {restaurant.number_served}\")\n",
        "\n",
        "# Changing the number served directly\n",
        "restaurant.number_served = 25\n",
        "print(f\"Updated (directly): Customers served: {restaurant.number_served}\")\n",
        "\n",
        "# Using set_number_served() method\n",
        "restaurant.set_number_served(50)\n",
        "print(f\"After set_number_served(): Customers served: {restaurant.number_served}\")\n",
        "\n",
        "# Using increment_number_served() method\n",
        "restaurant.increment_number_served(30)\n",
        "print(f\"After increment_number_served(): Customers served: {restaurant.number_served}\")\n"
      ],
      "metadata": {
        "colab": {
          "base_uri": "https://localhost:8080/"
        },
        "id": "gVjM8bQKbAlb",
        "outputId": "760f3f67-d98f-4c52-c09b-47255436e5a0"
      },
      "execution_count": 6,
      "outputs": [
        {
          "output_type": "stream",
          "name": "stdout",
          "text": [
            "Customers served: 0\n",
            "Updated (directly): Customers served: 25\n",
            "After set_number_served(): Customers served: 50\n",
            "After increment_number_served(): Customers served: 80\n"
          ]
        }
      ]
    },
    {
      "cell_type": "code",
      "source": [
        "   ## (Login Attempts: Add an attribute called login_attempts to your User class\n",
        "## from Exercise 9-3 (page 162). Write a method called increment_login_attempts()\n",
        "## that increments the value of login_attempts by 1. Write another method called\n",
        "## reset_login_attempts() that resets the value of login_attempts to 0.\n",
        "## Make an instance of the User class and call increment_login_attempts()\n",
        "## several times. Print the value of login_attempts to make sure it was incremented\n",
        "## properly, and then call reset_login_attempts(). Print login_attempts again to\n",
        "## make sure it was reset to 0)\n",
        "\n",
        "\n",
        "class User:\n",
        "    def __init__(self, first_name, last_name, age, email, location):\n",
        "        self.first_name = first_name\n",
        "        self.last_name = last_name\n",
        "        self.age = age\n",
        "        self.email = email\n",
        "        self.location = location\n",
        "        self.login_attempts = 0  # New attribute\n",
        "\n",
        "    def describe_user(self):\n",
        "        print(f\"User Profile:\")\n",
        "        print(f\"Name      : {self.first_name} {self.last_name}\")\n",
        "        print(f\"Age       : {self.age}\")\n",
        "        print(f\"Email     : {self.email}\")\n",
        "        print(f\"Location  : {self.location}\")\n",
        "        print(\"-\" * 30)\n",
        "\n",
        "    def greet_user(self):\n",
        "        print(f\"Hello, {self.first_name} {self.last_name}! Welcome back.\\n\")\n",
        "\n",
        "    def increment_login_attempts(self):\n",
        "        self.login_attempts += 1\n",
        "\n",
        "    def reset_login_attempts(self):\n",
        "        self.login_attempts = 0\n",
        "\n",
        "user = User(\"John\", \"Doe\", 30, \"john.doe@example.com\", \"London\")\n",
        "\n",
        "user.increment_login_attempts()\n",
        "user.increment_login_attempts()\n",
        "user.increment_login_attempts()\n",
        "\n",
        "print(f\"Login attempts: {user.login_attempts}\")\n",
        "user.reset_login_attempts()\n",
        "print(f\"Login attempts after reset: {user.login_attempts}\")\n"
      ],
      "metadata": {
        "colab": {
          "base_uri": "https://localhost:8080/"
        },
        "id": "nvpHtFRzbAjE",
        "outputId": "6060ce51-98e1-4f1c-961b-d3ef10d91d45"
      },
      "execution_count": 8,
      "outputs": [
        {
          "output_type": "stream",
          "name": "stdout",
          "text": [
            "Login attempts: 3\n",
            "Login attempts after reset: 0\n"
          ]
        }
      ]
    },
    {
      "cell_type": "code",
      "source": [
        "## 9-6. Ice Cream Stand: An ice cream stand is a specific kind of restaurant. Write\n",
        "##a class called IceCreamStand that inherits from the Restaurant class you wrote in\n",
        "## Exercise 9-1 (page 162) or Exercise 9-4 (page 166). Either version of the class\n",
        "## will work; just pick the one you like better. Add an attribute called flavors that\n",
        "## stores a list of ice cream flavors. Write a method that displays these flavors.\n",
        "## Create an instance of IceCreamStand, and call this method.\n",
        "\n",
        "\n",
        "class Restaurant:\n",
        "    def __init__(self, restaurant_name, cuisine_type):\n",
        "        self.restaurant_name = restaurant_name\n",
        "        self.cuisine_type = cuisine_type\n",
        "        self.number_served = 0\n",
        "\n",
        "    def describe_restaurant(self):\n",
        "        print(f\"Restaurant Name: {self.restaurant_name}\")\n",
        "        print(f\"Cuisine Type: {self.cuisine_type}\")\n",
        "\n",
        "    def open_restaurant(self):\n",
        "        print(f\"{self.restaurant_name} is now open!\")\n",
        "\n",
        "    def set_number_served(self, number):\n",
        "        if number >= 0:\n",
        "            self.number_served = number\n",
        "\n",
        "    def increment_number_served(self, additional_customers):\n",
        "        if additional_customers >= 0:\n",
        "            self.number_served += additional_customers\n",
        "\n",
        "class IceCreamStand(Restaurant):\n",
        "    def __init__(self, restaurant_name, cuisine_type=\"Ice Cream\"):\n",
        "        super().__init__(restaurant_name, cuisine_type)\n",
        "        self.flavors = [\"Vanilla\", \"Chocolate\", \"Strawberry\", \"Mango\", \"Butterscotch\"]\n",
        "\n",
        "    def display_flavors(self):\n",
        "        print(f\"Ice Cream Flavors available at {self.restaurant_name}:\")\n",
        "        for flavor in self.flavors:\n",
        "            print(f\"- {flavor}\")\n",
        "\n",
        "ice_cream_stand = IceCreamStand(\"Cool Cones\")\n",
        "\n",
        "ice_cream_stand.describe_restaurant()\n",
        "ice_cream_stand.display_flavors()\n"
      ],
      "metadata": {
        "id": "7dlLzqsUbAgv"
      },
      "execution_count": null,
      "outputs": []
    },
    {
      "cell_type": "code",
      "source": [
        "##9-7. Admin: An administrator is a special kind of user. Write a class called\n",
        "##Admin that inherits from the User class you wrote in Exercise 9-3 (page 162)\n",
        "## or Exercise 9-5 (page 167). Add an attribute, privileges, that stores a list of\n",
        "## strings like \"can add post\", \"can delete post\", \"can ban user\", and so on.\n",
        "## Write a method called show_privileges() that lists the administrator’s set of\n",
        "## privileges. Create an instance of Admin, and call your method.\n",
        "\n",
        "\n",
        "class User:\n",
        "    def __init__(self, first_name, last_name, age, email, location):\n",
        "        self.first_name = first_name\n",
        "        self.last_name = last_name\n",
        "        self.age = age\n",
        "        self.email = email\n",
        "        self.location = location\n",
        "        self.login_attempts = 0\n",
        "\n",
        "    def describe_user(self):\n",
        "        print(f\"User Profile:\")\n",
        "        print(f\"Name      : {self.first_name} {self.last_name}\")\n",
        "        print(f\"Age       : {self.age}\")\n",
        "        print(f\"Email     : {self.email}\")\n",
        "        print(f\"Location  : {self.location}\")\n",
        "        print(\"-\" * 30)\n",
        "\n",
        "    def greet_user(self):\n",
        "        print(f\"Hello, {self.first_name} {self.last_name}! Welcome back.\\n\")\n",
        "\n",
        "    def increment_login_attempts(self):\n",
        "        self.login_attempts += 1\n",
        "\n",
        "    def reset_login_attempts(self):\n",
        "        self.login_attempts = 0\n",
        "\n",
        "class Admin(User):\n",
        "    def __init__(self, first_name, last_name, age, email, location):\n",
        "        super().__init__(first_name, last_name, age, email, location)\n",
        "        self.privileges = [\n",
        "            \"can add post\",\n",
        "            \"can delete post\",\n",
        "            \"can ban user\",\n",
        "            \"can modify settings\"\n",
        "        ]\n",
        "\n",
        "    def show_privileges(self):\n",
        "        print(f\"Admin Privileges for {self.first_name} {self.last_name}:\")\n",
        "        for privilege in self.privileges:\n",
        "            print(f\"- {privilege}\")\n",
        "\n",
        "admin_user = Admin(\"Sarah\", \"Connor\", 35, \"s.connor@skynet.com\", \"Los Angeles\")\n",
        "\n",
        "admin_user.describe_user()\n",
        "admin_user.show_privileges()\n"
      ],
      "metadata": {
        "colab": {
          "base_uri": "https://localhost:8080/"
        },
        "id": "tEjlXu8Pbpi2",
        "outputId": "3976797b-ddd5-4a2b-ab30-1da1e2160ecd"
      },
      "execution_count": 9,
      "outputs": [
        {
          "output_type": "stream",
          "name": "stdout",
          "text": [
            "User Profile:\n",
            "Name      : Sarah Connor\n",
            "Age       : 35\n",
            "Email     : s.connor@skynet.com\n",
            "Location  : Los Angeles\n",
            "------------------------------\n",
            "Admin Privileges for Sarah Connor:\n",
            "- can add post\n",
            "- can delete post\n",
            "- can ban user\n",
            "- can modify settings\n"
          ]
        }
      ]
    },
    {
      "cell_type": "code",
      "source": [
        "## 9-8. Privileges: Write a separate Privileges class. The class should have one\n",
        "## attribute, privileges, that stores a list of strings as described in Exercise 9-7.\n",
        "## Move the show_privileges() method to this class. Make a Privileges instance\n",
        "## as an attribute in the Admin class. Create a new instance of Admin and use your\n",
        "## method to show its privileges.\n",
        "\n",
        "class User:\n",
        "    def __init__(self, first_name, last_name, age, email, location):\n",
        "        self.first_name = first_name\n",
        "        self.last_name = last_name\n",
        "        self.age = age\n",
        "        self.email = email\n",
        "        self.location = location\n",
        "        self.login_attempts = 0\n",
        "\n",
        "    def describe_user(self):\n",
        "        print(f\"User Profile:\")\n",
        "        print(f\"Name      : {self.first_name} {self.last_name}\")\n",
        "        print(f\"Age       : {self.age}\")\n",
        "        print(f\"Email     : {self.email}\")\n",
        "        print(f\"Location  : {self.location}\")\n",
        "        print(\"-\" * 30)\n",
        "\n",
        "    def greet_user(self):\n",
        "        print(f\"Hello, {self.first_name} {self.last_name}! Welcome back.\\n\")\n",
        "\n",
        "    def increment_login_attempts(self):\n",
        "        self.login_attempts += 1\n",
        "\n",
        "    def reset_login_attempts(self):\n",
        "        self.login_attempts = 0\n",
        "\n",
        "class Privileges:\n",
        "    def __init__(self, privileges=None):\n",
        "        if privileges is None:\n",
        "            privileges = [\n",
        "                \"can add post\",\n",
        "                \"can delete post\",\n",
        "                \"can ban user\",\n",
        "                \"can modify settings\"\n",
        "            ]\n",
        "        self.privileges = privileges\n",
        "\n",
        "    def show_privileges(self):\n",
        "        print(\"Privileges:\")\n",
        "        for privilege in self.privileges:\n",
        "            print(f\"- {privilege}\")\n",
        "\n",
        "class Admin(User):\n",
        "    def __init__(self, first_name, last_name, age, email, location):\n",
        "        super().__init__(first_name, last_name, age, email, location)\n",
        "        self.privileges = Privileges()\n",
        "\n",
        "\n",
        "admin_user = Admin(\"Neo\", \"Anderson\", 38, \"neo@matrix.com\", \"Zion\")\n",
        "\n",
        "admin_user.describe_user()\n",
        "admin_user.privileges.show_privileges()\n"
      ],
      "metadata": {
        "colab": {
          "base_uri": "https://localhost:8080/"
        },
        "id": "QntKjEYibpfT",
        "outputId": "24b533d7-28a3-4d2f-c7aa-bb8f5621b50f"
      },
      "execution_count": 10,
      "outputs": [
        {
          "output_type": "stream",
          "name": "stdout",
          "text": [
            "User Profile:\n",
            "Name      : Neo Anderson\n",
            "Age       : 38\n",
            "Email     : neo@matrix.com\n",
            "Location  : Zion\n",
            "------------------------------\n",
            "Privileges:\n",
            "- can add post\n",
            "- can delete post\n",
            "- can ban user\n",
            "- can modify settings\n"
          ]
        }
      ]
    },
    {
      "cell_type": "code",
      "source": [
        "## 9-9. Battery Upgrade: Use the final version of electric_car.py from this section.\n",
        "## Add a method to the Battery class called upgrade_battery(). This method\n",
        "## should check the battery size and set the capacity to 65 if it isn’t already. Make\n",
        "## an electric car with a default battery size, call get_range() once, and then\n",
        "## call get_range() a second time after upgrading the battery. You should see an\n",
        "## increase in the car’s range.\n",
        "\n",
        "# Base Car class\n",
        "class Car:\n",
        "    def __init__(self, make, model, year):\n",
        "        self.make = make\n",
        "        self.model = model\n",
        "        self.year = year\n",
        "\n",
        "    def get_descriptive_name(self):\n",
        "        return f\"{self.year} {self.make} {self.model}\"\n",
        "\n",
        "# Battery class\n",
        "class Battery:\n",
        "    def __init__(self, battery_size=40):\n",
        "        self.battery_size = battery_size\n",
        "\n",
        "    def describe_battery(self):\n",
        "        print(f\"This car has a {self.battery_size}-kWh battery.\")\n",
        "\n",
        "    def get_range(self):\n",
        "        if self.battery_size == 40:\n",
        "            range_estimate = 150\n",
        "        elif self.battery_size == 65:\n",
        "            range_estimate = 225\n",
        "\n",
        "        print(f\"This car can go about {range_estimate} miles on a full charge.\")\n",
        "\n",
        "    def upgrade_battery(self):\n",
        "        if self.battery_size < 65:\n",
        "            self.battery_size = 65\n",
        "            print(\"Battery upgraded to 65 kWh.\")\n",
        "        else:\n",
        "            print(\"Battery is already upgraded.\")\n",
        "\n",
        "# ElectricCar class\n",
        "class ElectricCar(Car):\n",
        "    def __init__(self, make, model, year):\n",
        "        super().__init__(make, model, year)\n",
        "        self.battery = Battery()\n",
        "\n",
        "# Create an instance of ElectricCar\n",
        "my_tesla = ElectricCar('Tesla', 'Model 3', 2025)\n",
        "\n",
        "# Show initial range\n",
        "print(my_tesla.get_descriptive_name())\n",
        "my_tesla.battery.describe_battery()\n",
        "my_tesla.battery.get_range()\n",
        "\n",
        "# Upgrade the battery and show new range\n",
        "my_tesla.battery.upgrade_battery()\n",
        "my_tesla.battery.get_range()\n"
      ],
      "metadata": {
        "colab": {
          "base_uri": "https://localhost:8080/"
        },
        "id": "2KJGv41JbpdE",
        "outputId": "720eb2ce-c328-4659-d379-eba310f81a72"
      },
      "execution_count": 11,
      "outputs": [
        {
          "output_type": "stream",
          "name": "stdout",
          "text": [
            "2025 Tesla Model 3\n",
            "This car has a 40-kWh battery.\n",
            "This car can go about 150 miles on a full charge.\n",
            "Battery upgraded to 65 kWh.\n",
            "This car can go about 225 miles on a full charge.\n"
          ]
        }
      ]
    },
    {
      "cell_type": "code",
      "source": [],
      "metadata": {
        "id": "Dk0D3vyqeLyt"
      },
      "execution_count": null,
      "outputs": []
    },
    {
      "cell_type": "code",
      "source": [],
      "metadata": {
        "id": "CQCtn9rSeLvk"
      },
      "execution_count": null,
      "outputs": []
    },
    {
      "cell_type": "code",
      "source": [],
      "metadata": {
        "id": "CaVOL3jveLto"
      },
      "execution_count": null,
      "outputs": []
    }
  ]
}