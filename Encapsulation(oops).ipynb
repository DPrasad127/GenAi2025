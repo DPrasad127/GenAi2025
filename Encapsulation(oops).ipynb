{
  "nbformat": 4,
  "nbformat_minor": 0,
  "metadata": {
    "colab": {
      "provenance": []
    },
    "kernelspec": {
      "name": "python3",
      "display_name": "Python 3"
    },
    "language_info": {
      "name": "python"
    }
  },
  "cells": [
    {
      "cell_type": "code",
      "execution_count": 1,
      "metadata": {
        "colab": {
          "base_uri": "https://localhost:8080/"
        },
        "id": "vlw2CV960mJB",
        "outputId": "9fa343fb-2d20-4a87-d735-6519a14603f6"
      },
      "outputs": [
        {
          "output_type": "stream",
          "name": "stdout",
          "text": [
            "Honda\n"
          ]
        }
      ],
      "source": [
        "\n",
        "class Bike:\n",
        "    def __init__(self):\n",
        "        self.brand = \"Honda\"\n",
        "\n",
        "b = Bike()\n",
        "print(b.brand)"
      ]
    },
    {
      "cell_type": "code",
      "source": [
        "\n",
        "class Student:\n",
        "    def __init__(self):\n",
        "        self._marks = 95\n",
        "        self._name = \"John\"\n",
        "e = Student()\n",
        "print(e._name,e._marks)"
      ],
      "metadata": {
        "colab": {
          "base_uri": "https://localhost:8080/"
        },
        "id": "aiYYihKu0nnN",
        "outputId": "2e9e387a-94b2-40ca-feda-8eb28064943a"
      },
      "execution_count": 4,
      "outputs": [
        {
          "output_type": "stream",
          "name": "stdout",
          "text": [
            "John 95\n"
          ]
        }
      ]
    },
    {
      "cell_type": "code",
      "source": [
        "class Doctor:\n",
        "    def __init__(self):\n",
        "        self._license_number = \"MED12345\"\n",
        "\n",
        "d = Doctor()\n",
        "print(d._license_number)"
      ],
      "metadata": {
        "colab": {
          "base_uri": "https://localhost:8080/"
        },
        "id": "wIh2ZGQA0njq",
        "outputId": "026407de-713b-4afb-d2e2-18acbc1c935d"
      },
      "execution_count": 5,
      "outputs": [
        {
          "output_type": "stream",
          "name": "stdout",
          "text": [
            "MED12345\n"
          ]
        }
      ]
    },
    {
      "cell_type": "code",
      "source": [
        "class Laptop:\n",
        "    def __init__(self):\n",
        "        self.__serial_number = \"SN-987654\"\n",
        "    def print_serial(self):\n",
        "        print(self.__serial_number)\n",
        "\n",
        "class Phone:\n",
        "    def __init__(self):\n",
        "        self.__serial_number = \"SN-123456\"\n",
        "    def print_serial(self):\n",
        "        print(self.__serial_number)\n",
        "\n",
        "def show_serial(device):\n",
        "    device.print_serial()\n"
      ],
      "metadata": {
        "id": "0V1IgldY0ngs"
      },
      "execution_count": 6,
      "outputs": []
    },
    {
      "cell_type": "code",
      "source": [
        "class Ipad:\n",
        "    def __init__(self):\n",
        "        self.__serial_number = \"SN-987654\"\n",
        "\n",
        "    def get_serial_number(self):\n",
        "        return self.__serial_number\n",
        "\n",
        "l = Ipad()\n",
        "print(l.get_serial_number())\n"
      ],
      "metadata": {
        "colab": {
          "base_uri": "https://localhost:8080/"
        },
        "id": "_jIziw4j0nd_",
        "outputId": "2fd2cde4-b31f-4ac7-8fc5-3eee68808060"
      },
      "execution_count": 7,
      "outputs": [
        {
          "output_type": "stream",
          "name": "stdout",
          "text": [
            "SN-987654\n"
          ]
        }
      ]
    },
    {
      "cell_type": "code",
      "source": [
        "class Book:\n",
        "    def __init__(self, title, author, copies):\n",
        "        self.title = title\n",
        "        self._author = author\n",
        "        self.__copies = copies\n",
        "\n",
        "    def borrow(self):\n",
        "        if self.__copies > 0:\n",
        "            self.__copies -= 1\n",
        "            return f\"Book borrowed! Copies left: {self.__copies}\"\n",
        "        else:\n",
        "            return \"No copies left\"\n",
        "\n",
        "    def return_book(self):\n",
        "        self.__copies += 1\n",
        "        return f\"Book returned! Copies now: {self.__copies}\"\n",
        "\n",
        "    def get_copies(self):\n",
        "        return self.__copies\n",
        "\n",
        "\n",
        "b = Book(\"Python Basics\", \"John Doe\", 2)\n",
        "print(b.borrow())\n",
        "print(b.borrow())\n",
        "print(b.borrow())\n",
        "print(b.return_book())\n",
        "print(b.get_copies())\n"
      ],
      "metadata": {
        "colab": {
          "base_uri": "https://localhost:8080/"
        },
        "id": "Y_fv50Pn0nbP",
        "outputId": "aeded60f-7c4a-42b4-8dc5-23ca19dbffa4"
      },
      "execution_count": 12,
      "outputs": [
        {
          "output_type": "stream",
          "name": "stdout",
          "text": [
            "Book borrowed! Copies left: 1\n",
            "Book borrowed! Copies left: 0\n",
            "No copies left\n",
            "Book returned! Copies now: 1\n",
            "1\n"
          ]
        }
      ]
    },
    {
      "cell_type": "code",
      "source": [
        "class Student:\n",
        "    def __init__(self, name):\n",
        "        self._name = name\n",
        "        self.__grades = {}\n",
        "\n",
        "    def add_grade(self, subject, grade):\n",
        "        self.__grades[subject] = grade\n",
        "\n",
        "    def _average(self):\n",
        "        return sum(self.__grades.values()) / len(self.__grades)\n",
        "\n",
        "    def get_report(self):\n",
        "        return f\"Student: {self._name}, Average: {self._average()}\"\n",
        "\n",
        "object1=Student(\"Student1\")\n",
        "object1=Student(\"Student2\")\n",
        "object1.add_grade(\"science\",80)\n",
        "object1.add_grade(\"maths\",80)\n",
        "object1.add_grade(\"computers\",80)\n",
        "object1.add_grade(\"science1\",20)\n",
        "object1.add_grade(\"maths1\",20)\n",
        "object1.add_grade(\"computers1\",80)\n",
        "object1.get_report()\n",
        "print(object1._Student__grades)\n"
      ],
      "metadata": {
        "colab": {
          "base_uri": "https://localhost:8080/"
        },
        "id": "HFvho_Y00nYi",
        "outputId": "6fdefefd-8a74-42fc-86de-0e8109df66fa"
      },
      "execution_count": 14,
      "outputs": [
        {
          "output_type": "stream",
          "name": "stdout",
          "text": [
            "{'science': 80, 'maths': 80, 'computers': 80, 'science1': 20, 'maths1': 20, 'computers1': 80}\n"
          ]
        }
      ]
    },
    {
      "cell_type": "code",
      "source": [],
      "metadata": {
        "id": "L4j5Atfl0nVb"
      },
      "execution_count": null,
      "outputs": []
    },
    {
      "cell_type": "code",
      "source": [],
      "metadata": {
        "id": "BIJhXVko0nS5"
      },
      "execution_count": null,
      "outputs": []
    },
    {
      "cell_type": "code",
      "source": [],
      "metadata": {
        "id": "GTXYAK660nQM"
      },
      "execution_count": null,
      "outputs": []
    }
  ]
}