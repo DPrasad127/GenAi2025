{
  "nbformat": 4,
  "nbformat_minor": 0,
  "metadata": {
    "colab": {
      "provenance": []
    },
    "kernelspec": {
      "name": "python3",
      "display_name": "Python 3"
    },
    "language_info": {
      "name": "python"
    }
  },
  "cells": [
    {
      "cell_type": "code",
      "execution_count": null,
      "metadata": {
        "id": "FxrGs6Nr7zOk"
      },
      "outputs": [],
      "source": [
        "## same method name(polymorphism concept)"
      ]
    },
    {
      "cell_type": "code",
      "source": [
        "class Animal:\n",
        " def speak(self):\n",
        "   return \"Test1\"\n",
        "\n",
        "class Dog(Animal):\n",
        "  def speak(self):\n",
        "    return \"Test2\"\n"
      ],
      "metadata": {
        "id": "kf5QwMWZ75v1"
      },
      "execution_count": 6,
      "outputs": []
    },
    {
      "cell_type": "code",
      "source": [
        "class Animal:\n",
        " def speak(self):\n",
        "   return \"Test1\"\n",
        "\n",
        "class Dog(Animal):\n",
        "  def speak(self):\n",
        "    return \"Test2\"\n",
        "\n",
        "a = Animal()\n",
        "print(a.speak())\n",
        "\n",
        "d = Dog()\n",
        "print(d.speak())"
      ],
      "metadata": {
        "colab": {
          "base_uri": "https://localhost:8080/"
        },
        "id": "55CnyQVS75hg",
        "outputId": "252e3020-d95f-4230-f669-e7d89e52c274"
      },
      "execution_count": 7,
      "outputs": [
        {
          "output_type": "stream",
          "name": "stdout",
          "text": [
            "Test1\n",
            "Test2\n"
          ]
        }
      ]
    },
    {
      "cell_type": "code",
      "source": [
        "class plot:\n",
        "    def draw(self):\n",
        "        print(\"Drawing generic plot\")\n",
        "\n",
        "class Lineplot(plot):\n",
        "    def draw(self):\n",
        "        print(\"Drawing lineplot\")\n",
        "\n",
        "class Barplot(plot):\n",
        "    def draw(self):\n",
        "        print(\"Drawing bar chart\")\n",
        "\n",
        "p = plot()\n",
        "l = Lineplot()\n",
        "b = Barplot()\n",
        "\n",
        "p.draw()\n",
        "l.draw()\n",
        "b.draw()"
      ],
      "metadata": {
        "colab": {
          "base_uri": "https://localhost:8080/"
        },
        "id": "f3uzTNg975We",
        "outputId": "1709f534-f1ce-45ac-a542-0d4a2561ee59"
      },
      "execution_count": 8,
      "outputs": [
        {
          "output_type": "stream",
          "name": "stdout",
          "text": [
            "Drawing generic plot\n",
            "Drawing lineplot\n",
            "Drawing bar chart\n"
          ]
        }
      ]
    },
    {
      "cell_type": "code",
      "source": [
        "class operation:\n",
        "  def compute(self,a,b):\n",
        "    print(\"performing generic operations\")\n",
        "class add(operation):\n",
        "  def compute(self,a,b):\n",
        "    print(\"Addition\",a+b)\n",
        "class sub(operation):\n",
        "  def compute(self,a,b):\n",
        "    print(\"Subtraction\",a-b)\n",
        "class mul(operation):\n",
        "  def compute(self,a,b):\n",
        "    print(\"Multiplication\",a*b)\n",
        "class div(operation):\n",
        "  def compute(self,a,b):\n",
        "    print(\"Division\",a/b)\n",
        "op=operation()\n",
        "add=add()\n",
        "sub=sub()\n",
        "mul=mul()\n",
        "div=div()\n",
        "\n",
        "op.compute(10,20)\n",
        "add.compute(10,20)\n",
        "sub.compute(10,20)\n",
        "mul.compute(10,20)\n",
        "div.compute(10,20)"
      ],
      "metadata": {
        "colab": {
          "base_uri": "https://localhost:8080/"
        },
        "id": "vl_0aBCR75SN",
        "outputId": "51fd33d0-c136-4cfa-d551-1bfb0a7ca846"
      },
      "execution_count": 11,
      "outputs": [
        {
          "output_type": "stream",
          "name": "stdout",
          "text": [
            "performing generic operations\n",
            "Addition 30\n",
            "Subtraction -10\n",
            "Multiplication 200\n",
            "Division 0.5\n"
          ]
        }
      ]
    },
    {
      "cell_type": "code",
      "source": [
        "class CSVExporter:\n",
        "    def export(self):\n",
        "        print(\"Exporting data to CSV\")\n",
        "\n",
        "class ExcelExporter:\n",
        "    def export(self):\n",
        "        print(\"Exporting data to Excel\")\n",
        "\n",
        "class DatabaseExporter:\n",
        "    def export(self):\n",
        "        print(\"Exporting data to Database\")\n",
        "\n",
        "def run_export(exporter):\n",
        "    exporter.export()\n",
        "\n",
        "run_export(CSVExporter())\n",
        "run_export(ExcelExporter())\n",
        "run_export(DatabaseExporter())"
      ],
      "metadata": {
        "colab": {
          "base_uri": "https://localhost:8080/"
        },
        "id": "wQLttBTV75Ou",
        "outputId": "c6f6f5cd-478f-4fbe-9b9a-f625b23011cd"
      },
      "execution_count": 12,
      "outputs": [
        {
          "output_type": "stream",
          "name": "stdout",
          "text": [
            "Exporting data to CSV\n",
            "Exporting data to Excel\n",
            "Exporting data to Database\n"
          ]
        }
      ]
    },
    {
      "cell_type": "code",
      "source": [
        "class Duck:\n",
        "    def quack(self):\n",
        "        print(\"Quack!\")\n",
        "\n",
        "class Person:\n",
        "    def quack(self):\n",
        "        print(\"I'm pretending to be a duck!\")\n",
        "\n",
        "def make_it_quack(x):\n",
        "    x.quack()\n",
        "\n",
        "\n",
        "d = Duck()\n",
        "p = Person()\n",
        "\n",
        "make_it_quack(d)\n",
        "make_it_quack(p)"
      ],
      "metadata": {
        "colab": {
          "base_uri": "https://localhost:8080/"
        },
        "id": "TxQjABz-75MS",
        "outputId": "d450e0f1-7ae0-4759-879f-349a0c326de5"
      },
      "execution_count": 13,
      "outputs": [
        {
          "output_type": "stream",
          "name": "stdout",
          "text": [
            "Quack!\n",
            "I'm pretending to be a duck!\n"
          ]
        }
      ]
    },
    {
      "cell_type": "code",
      "source": [
        "class India:\n",
        "    def capital(self):\n",
        "        print(\"New Delhi\")\n",
        "\n",
        "class USA:\n",
        "    def capital(self):\n",
        "        print(\"Washington, D.C.\")\n",
        "\n",
        "class China:\n",
        "    def capital(self):\n",
        "        print(\"Beijing\")\n",
        "\n",
        "class Russia:\n",
        "    def capital(self):\n",
        "        print(\"Moscow\")\n",
        "\n",
        "obj_ind = India()\n",
        "obj_usa = USA()\n",
        "obj_china = China()\n",
        "obj_russia = Russia()\n",
        "\n",
        "for country in (obj_ind, obj_usa, obj_china, obj_russia):\n",
        "    country.capital()\n"
      ],
      "metadata": {
        "colab": {
          "base_uri": "https://localhost:8080/"
        },
        "id": "iZHfVjx-75KB",
        "outputId": "fedaf4c0-094d-4536-da69-8ec37da489ad"
      },
      "execution_count": 18,
      "outputs": [
        {
          "output_type": "stream",
          "name": "stdout",
          "text": [
            "New Delhi\n",
            "Washington, D.C.\n",
            "Beijing\n",
            "Moscow\n"
          ]
        }
      ]
    },
    {
      "cell_type": "code",
      "source": [],
      "metadata": {
        "id": "I-5ZQtLe75Hu"
      },
      "execution_count": null,
      "outputs": []
    },
    {
      "cell_type": "code",
      "source": [],
      "metadata": {
        "id": "LHLcp63M75FP"
      },
      "execution_count": null,
      "outputs": []
    },
    {
      "cell_type": "code",
      "source": [],
      "metadata": {
        "id": "IzIteAxb75Cz"
      },
      "execution_count": null,
      "outputs": []
    },
    {
      "cell_type": "code",
      "source": [],
      "metadata": {
        "id": "YJWHDU2qDa54"
      },
      "execution_count": null,
      "outputs": []
    },
    {
      "cell_type": "code",
      "source": [],
      "metadata": {
        "id": "w-p7TLRuDa2x"
      },
      "execution_count": null,
      "outputs": []
    }
  ]
}