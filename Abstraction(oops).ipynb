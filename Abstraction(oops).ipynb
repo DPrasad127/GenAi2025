{
  "nbformat": 4,
  "nbformat_minor": 0,
  "metadata": {
    "colab": {
      "provenance": []
    },
    "kernelspec": {
      "name": "python3",
      "display_name": "Python 3"
    },
    "language_info": {
      "name": "python"
    }
  },
  "cells": [
    {
      "cell_type": "code",
      "source": [
        "from abc import ABC, abstractmethod\n",
        "\n",
        "class Payment(ABC):\n",
        "    @abstractmethod\n",
        "    def pay(self, amount,interest):\n",
        "        pass\n",
        "\n",
        "class CreditCard(Payment):\n",
        "    def pay(self, amount):\n",
        "        print(f\"Paid ₹{amount} using Credit Card\")\n",
        "\n",
        "class UPI(Payment):\n",
        "    def pay(self, amount):\n",
        "        print(f\"Paid ₹{amount} using UPI\")"
      ],
      "metadata": {
        "id": "sGgen6TBk_K6"
      },
      "execution_count": 39,
      "outputs": []
    },
    {
      "cell_type": "code",
      "source": [
        "\n",
        "p1 = CreditCard()\n",
        "p1.pay(1000)\n",
        "\n",
        "p2 = UPI()\n",
        "p2.pay(500)\n"
      ],
      "metadata": {
        "colab": {
          "base_uri": "https://localhost:8080/"
        },
        "id": "x8_y5t-alVuP",
        "outputId": "c2d0b896-a2bc-49c8-c1c4-c5a0b467e65a"
      },
      "execution_count": 40,
      "outputs": [
        {
          "output_type": "stream",
          "name": "stdout",
          "text": [
            "Paid ₹1000 using Credit Card\n",
            "Paid ₹500 using UPI\n"
          ]
        }
      ]
    },
    {
      "cell_type": "code",
      "source": [
        "from abc import ABC, abstractmethod\n",
        "\n",
        "class Vehicle(ABC):\n",
        "    @abstractmethod\n",
        "    def start_engine(self):\n",
        "        pass\n",
        "\n",
        "    @abstractmethod\n",
        "    def stop_engine(self):\n",
        "        pass\n",
        "\n",
        "\n",
        "class Car(Vehicle):\n",
        "    def start_engine(self):\n",
        "        print(\"Car engine started\")\n",
        "\n",
        "    def stop_engine(self):\n",
        "        print(\"Car engine stopped\")\n",
        "\n",
        "c = Car()\n",
        "c.start_engine()\n",
        "c.stop_engine()"
      ],
      "metadata": {
        "colab": {
          "base_uri": "https://localhost:8080/"
        },
        "id": "l7CK5lwXF9AX",
        "outputId": "430f3b2e-efc8-4ccc-87d0-4dcbf0cf6093"
      },
      "execution_count": null,
      "outputs": [
        {
          "output_type": "stream",
          "name": "stdout",
          "text": [
            "Car engine started\n",
            "Car engine stopped\n"
          ]
        }
      ]
    },
    {
      "cell_type": "code",
      "source": [
        "## exception handling\n"
      ],
      "metadata": {
        "id": "r58sqsOkF8-B"
      },
      "execution_count": null,
      "outputs": []
    },
    {
      "cell_type": "code",
      "source": [
        "try:\n",
        "    a = int(\"abc\")   # ValueError\n",
        "    b = 0 / 10       # ZeroDivisionError\n",
        "except ValueError:\n",
        "    print(\"Could not convert to integer.\")\n",
        "except ZeroDivisionError:\n",
        "    print(\"Division by zero error.\")\n"
      ],
      "metadata": {
        "colab": {
          "base_uri": "https://localhost:8080/"
        },
        "id": "ofCBtQXxF84_",
        "outputId": "43f5cb3d-a540-454e-c2bd-6b53fa21f9a5"
      },
      "execution_count": null,
      "outputs": [
        {
          "output_type": "stream",
          "name": "stdout",
          "text": [
            "Could not convert to integer.\n"
          ]
        }
      ]
    },
    {
      "cell_type": "code",
      "source": [
        "try:\n",
        "    print(\"Trying something risky...\")\n",
        "    x = 1 / 10\n",
        "except ZeroDivisionError:\n",
        "    print(\"Caught division by zero.\")\n",
        "finally:\n",
        "    print(\"This always runs.\")\n"
      ],
      "metadata": {
        "colab": {
          "base_uri": "https://localhost:8080/"
        },
        "id": "VOUno5OGF81l",
        "outputId": "adb6d1a5-e3fa-4ca2-c646-6b2134f0920c"
      },
      "execution_count": null,
      "outputs": [
        {
          "output_type": "stream",
          "name": "stdout",
          "text": [
            "Trying something risky...\n",
            "This always runs.\n"
          ]
        }
      ]
    },
    {
      "cell_type": "code",
      "source": [
        "try:\n",
        "    number = float(\"abc\")\n",
        "    print(number)\n",
        "except ValueError:\n",
        "    print(\"Invalid number format.\")"
      ],
      "metadata": {
        "id": "gVbJJ3jmF8zk",
        "colab": {
          "base_uri": "https://localhost:8080/"
        },
        "outputId": "ecdfddef-3b82-426e-f6b2-12815656f019"
      },
      "execution_count": 1,
      "outputs": [
        {
          "output_type": "stream",
          "name": "stdout",
          "text": [
            "Invalid number format.\n"
          ]
        }
      ]
    },
    {
      "cell_type": "code",
      "source": [
        "try:\n",
        "    items = [10, 20, 30]\n",
        "    print(items[5])\n",
        "except IndexError:\n",
        "    print(\"Index is out of range.\")\n"
      ],
      "metadata": {
        "id": "xHAdR5HvF8xN",
        "colab": {
          "base_uri": "https://localhost:8080/"
        },
        "outputId": "d6b6c92d-1a06-4b17-93fd-60fd855dde95"
      },
      "execution_count": 2,
      "outputs": [
        {
          "output_type": "stream",
          "name": "stdout",
          "text": [
            "Index is out of range.\n"
          ]
        }
      ]
    },
    {
      "cell_type": "code",
      "source": [
        "try:\n",
        "    items = [10, 20, 30]\n",
        "    print(items[5])\n",
        "except IndexError:\n",
        "    print(\"Index is out of range.\")\n"
      ],
      "metadata": {
        "id": "uI1fao29F8u9",
        "colab": {
          "base_uri": "https://localhost:8080/"
        },
        "outputId": "a6645bad-3f13-4eee-f543-13d48d11065d"
      },
      "execution_count": 3,
      "outputs": [
        {
          "output_type": "stream",
          "name": "stdout",
          "text": [
            "Index is out of range.\n"
          ]
        }
      ]
    },
    {
      "cell_type": "code",
      "source": [
        "try:\n",
        "    x = 1\n",
        "    x.append(1)\n",
        "except AttributeError:\n",
        "    print(\"Invalid attribute for the object.\")"
      ],
      "metadata": {
        "id": "61PP2O--F8sn",
        "colab": {
          "base_uri": "https://localhost:8080/"
        },
        "outputId": "c5a5673e-8e0a-4f98-88dd-af05f4ae0451"
      },
      "execution_count": 6,
      "outputs": [
        {
          "output_type": "stream",
          "name": "stdout",
          "text": [
            "Invalid attribute for the object.\n"
          ]
        }
      ]
    },
    {
      "cell_type": "code",
      "source": [
        "try:\n",
        "    number = int(\"5\")    # works fine, number = 5\n",
        "    result = number / 0  # raises ZeroDivisionError\n",
        "except (ValueError, ZeroDivisionError) as e:\n",
        "    print(\"Caught an error:\", e)\n"
      ],
      "metadata": {
        "id": "AsrRY65SF8qQ",
        "colab": {
          "base_uri": "https://localhost:8080/"
        },
        "outputId": "e61e3d2c-0838-42b7-f7b6-197e4c2e6a8d"
      },
      "execution_count": 7,
      "outputs": [
        {
          "output_type": "stream",
          "name": "stdout",
          "text": [
            "Caught an error: division by zero\n"
          ]
        }
      ]
    },
    {
      "cell_type": "code",
      "source": [
        "try:\n",
        "    result = 10 / 2\n",
        "except ZeroDivisionError:\n",
        "    print(\"Divide by zero error\")\n",
        "else:\n",
        "    print(\"Result:\", result)\n",
        "finally:\n",
        "    print(\"Done with division\")"
      ],
      "metadata": {
        "id": "lJotbJZZF8n7",
        "colab": {
          "base_uri": "https://localhost:8080/"
        },
        "outputId": "872cccb2-b32f-435b-e4b5-4d71c9a24c9b"
      },
      "execution_count": 9,
      "outputs": [
        {
          "output_type": "stream",
          "name": "stdout",
          "text": [
            "Result: 5.0\n",
            "Done with division\n"
          ]
        }
      ]
    },
    {
      "cell_type": "code",
      "source": [
        "try:\n",
        "    result = 1 / 10\n",
        "except ZeroDivisionError:\n",
        "    print(\"Divide by zero error\")\n",
        "else:\n",
        "    print(\"Result:\", result)\n",
        "finally:\n",
        "    print(\"Done with division\")"
      ],
      "metadata": {
        "id": "8zNzGeiKF8lH",
        "colab": {
          "base_uri": "https://localhost:8080/"
        },
        "outputId": "506ef194-851f-45dc-ee26-13c3fa99c8dd"
      },
      "execution_count": 11,
      "outputs": [
        {
          "output_type": "stream",
          "name": "stdout",
          "text": [
            "Result: 0.1\n",
            "Done with division\n"
          ]
        }
      ]
    },
    {
      "cell_type": "code",
      "source": [
        "try:\n",
        "    result = 0 / 10\n",
        "except ZeroDivisionError:\n",
        "    print(\"Divide by zero error\")\n",
        "else:\n",
        "    print(\"Result:\", result)\n",
        "finally:\n",
        "    print(\"Done with division\")"
      ],
      "metadata": {
        "id": "MunErO6eF8e-",
        "colab": {
          "base_uri": "https://localhost:8080/"
        },
        "outputId": "c8381f75-4b53-44af-be57-8a39f8dcda3c"
      },
      "execution_count": 13,
      "outputs": [
        {
          "output_type": "stream",
          "name": "stdout",
          "text": [
            "Result: 0.0\n",
            "Done with division\n"
          ]
        }
      ]
    },
    {
      "cell_type": "code",
      "source": [
        "try:\n",
        "    result = 10 / 0\n",
        "except ZeroDivisionError:\n",
        "    print(\"Divide by zero error\")\n",
        "else:\n",
        "    print(\"Result:\", result)\n",
        "finally:\n",
        "    print(\"Done with division\")"
      ],
      "metadata": {
        "id": "9EvS75PnF8by",
        "colab": {
          "base_uri": "https://localhost:8080/"
        },
        "outputId": "c52d8856-4176-4fb2-ffb7-171d144e57fb"
      },
      "execution_count": 14,
      "outputs": [
        {
          "output_type": "stream",
          "name": "stdout",
          "text": [
            "Divide by zero error\n",
            "Done with division\n"
          ]
        }
      ]
    },
    {
      "cell_type": "code",
      "source": [
        "try:\n",
        "    lst = [1,2]\n",
        "    print(lst[1])\n",
        "except IndexError:\n",
        "    print(\"Index out of range\")\n",
        "else:\n",
        "    print(\"List item accessed\")\n",
        "finally:\n",
        "    print(\"List operation done\")"
      ],
      "metadata": {
        "id": "hNby12gOF8Ya",
        "colab": {
          "base_uri": "https://localhost:8080/"
        },
        "outputId": "dc61e56e-4739-4c05-92e6-7f9c7e441ebb"
      },
      "execution_count": 20,
      "outputs": [
        {
          "output_type": "stream",
          "name": "stdout",
          "text": [
            "2\n",
            "List item accessed\n",
            "List operation done\n"
          ]
        }
      ]
    },
    {
      "cell_type": "code",
      "source": [
        "try:\n",
        "    lst = [1,2]\n",
        "    he = [3,4]\n",
        "    print(lst[1])\n",
        "    print(he[1])\n",
        "except IndexError:\n",
        "    print(\"Index out of range\")\n",
        "else:\n",
        "    print(\"List item accessed\")\n",
        "finally:\n",
        "    print(\"List operation done\")"
      ],
      "metadata": {
        "id": "8srBHeYRF8V-",
        "colab": {
          "base_uri": "https://localhost:8080/"
        },
        "outputId": "c6149630-41e7-4faa-be40-07fe8d2410a1"
      },
      "execution_count": 26,
      "outputs": [
        {
          "output_type": "stream",
          "name": "stdout",
          "text": [
            "2\n",
            "4\n",
            "List item accessed\n",
            "List operation done\n"
          ]
        }
      ]
    },
    {
      "cell_type": "code",
      "source": [
        "data = [[1, 2], [3, 4], \"invalid\"]\n",
        "for sublist in data:\n",
        "    for item in sublist:\n",
        "        print(item * 2)"
      ],
      "metadata": {
        "colab": {
          "base_uri": "https://localhost:8080/"
        },
        "id": "w18zYSj2fBdW",
        "outputId": "8fd7ef52-72cb-46f5-ffce-c89618b15d69"
      },
      "execution_count": 27,
      "outputs": [
        {
          "output_type": "stream",
          "name": "stdout",
          "text": [
            "2\n",
            "4\n",
            "6\n",
            "8\n",
            "ii\n",
            "nn\n",
            "vv\n",
            "aa\n",
            "ll\n",
            "ii\n",
            "dd\n"
          ]
        }
      ]
    },
    {
      "cell_type": "code",
      "source": [
        "\n",
        "\n"
      ],
      "metadata": {
        "id": "06hOQGoRfBZw"
      },
      "execution_count": 31,
      "outputs": []
    },
    {
      "cell_type": "code",
      "source": [
        "\n"
      ],
      "metadata": {
        "id": "dP8ZaUQafBXL"
      },
      "execution_count": null,
      "outputs": []
    },
    {
      "cell_type": "code",
      "source": [
        "data = [[2, 3], [4, 5], \"hi\"]\n",
        "\n",
        "for group in data:\n",
        "    for item in group:\n",
        "        print(item * 3)\n"
      ],
      "metadata": {
        "colab": {
          "base_uri": "https://localhost:8080/"
        },
        "id": "m_0YAqxcfBVG",
        "outputId": "f3a54a17-448a-4335-dde0-a8f7a73fc5f7"
      },
      "execution_count": 31,
      "outputs": [
        {
          "output_type": "stream",
          "name": "stdout",
          "text": [
            "6\n",
            "9\n",
            "12\n",
            "15\n",
            "hhh\n",
            "iii\n"
          ]
        }
      ]
    },
    {
      "cell_type": "code",
      "source": [
        "try:\n",
        "    a = {1, 2, 3}\n",
        "    b = \"abc\"\n",
        "    result = a | b  # Unsupported operand types\n",
        "except TypeError as e:\n",
        "    print(\"Set union error:\", e)\n",
        "else:\n",
        "    print(\"Set union successful\")\n",
        "finally:\n",
        "    print(\"Set operation done\")\n"
      ],
      "metadata": {
        "colab": {
          "base_uri": "https://localhost:8080/"
        },
        "id": "CeL6XDMHiPFm",
        "outputId": "76fe4939-2419-47a4-e236-bad15b4a7dde"
      },
      "execution_count": 33,
      "outputs": [
        {
          "output_type": "stream",
          "name": "stdout",
          "text": [
            "Set union error: unsupported operand type(s) for |: 'set' and 'str'\n",
            "Set operation done\n"
          ]
        }
      ]
    },
    {
      "cell_type": "code",
      "source": [
        "try:\n",
        "    x = 5\n",
        "    y = \"hello\"\n",
        "    result = x + y\n",
        "except TypeError as e:\n",
        "    print(\"Addition error:\", e)\n",
        "else:\n",
        "    print(\"Addition successful\")\n",
        "finally:\n",
        "    print(\"Addition operation done\")\n"
      ],
      "metadata": {
        "colab": {
          "base_uri": "https://localhost:8080/"
        },
        "id": "3hqCW3_oiPBY",
        "outputId": "d9932c54-14d9-4f3d-e94c-88018b5bd70d"
      },
      "execution_count": 35,
      "outputs": [
        {
          "output_type": "stream",
          "name": "stdout",
          "text": [
            "Addition error: unsupported operand type(s) for +: 'int' and 'str'\n",
            "Addition operation done\n"
          ]
        }
      ]
    },
    {
      "cell_type": "code",
      "source": [
        "try:\n",
        "    a = \"abc\"\n",
        "    b = [1, 2, 3]\n",
        "    result = a * b\n",
        "except TypeError as e:\n",
        "    print(\"Multiplication error:\", e)\n",
        "else:\n",
        "    print(\"Multiplication successful\")\n",
        "finally:\n",
        "    print(\"Multiplication operation done\")\n"
      ],
      "metadata": {
        "colab": {
          "base_uri": "https://localhost:8080/"
        },
        "id": "-bmvqX0Xjo2R",
        "outputId": "8c03f4a9-b321-4e20-8254-b619549f89cf"
      },
      "execution_count": 36,
      "outputs": [
        {
          "output_type": "stream",
          "name": "stdout",
          "text": [
            "Multiplication error: can't multiply sequence by non-int of type 'list'\n",
            "Multiplication operation done\n"
          ]
        }
      ]
    },
    {
      "cell_type": "markdown",
      "source": [
        "Exception Name\tReason for Occurrence\n",
        "ZeroDivisionError\tRaised when dividing a number by zero.\n",
        "ValueError\tRaised when a function receives an argument of the right type but invalid value.\n",
        "TypeError\tRaised when an operation or function is applied to an inappropriate type.\n",
        "IndexError\tRaised when a list/tuple/string index is out of range.\n",
        "KeyError\tRaised when accessing a dictionary with a missing key.\n",
        "AttributeError\tRaised when an invalid attribute reference is made on an object.\n",
        "ImportError\tRaised when an import fails for a module that doesn’t exist.\n",
        "ModuleNotFoundError\tRaised when the specified module can’t be found.\n",
        "FileNotFoundError\tRaised when a file or directory is requested but doesn’t exist.\n",
        "IOError\tRaised when an I/O operation (like reading or writing a file) fails.\n",
        "RuntimeError\tRaised when an error is detected that doesn’t fall in other categories.\n",
        "StopIteration\tRaised to signal the end of an iterator.\n",
        "OverflowError\tRaised when a numerical operation exceeds the maximum limit.\n",
        "MemoryError\tRaised when an operation runs out of memory.\n",
        "IndentationError\tRaised when indentation is incorrect.\n",
        "SyntaxError\tRaised when Python code is invalid or improperly structured.\n",
        "NameError\tRaised when a variable is not defined.\n",
        "UnboundLocalError\tRaised when a local variable is referenced before assignment.\n",
        "AssertionError\tRaised when an assert statement fails.\n",
        "NotImplementedError\tRaised when an abstract method is not overridden in a subclass.\n"
      ],
      "metadata": {
        "id": "Eb81yjKtlNFU"
      }
    },
    {
      "cell_type": "code",
      "source": [],
      "metadata": {
        "id": "um4rHGVYlMqP"
      },
      "execution_count": null,
      "outputs": []
    },
    {
      "cell_type": "code",
      "source": [],
      "metadata": {
        "id": "ZYz4KYkEjowz"
      },
      "execution_count": null,
      "outputs": []
    },
    {
      "cell_type": "code",
      "source": [],
      "metadata": {
        "id": "kbpIR20Gjot2"
      },
      "execution_count": null,
      "outputs": []
    },
    {
      "cell_type": "code",
      "source": [],
      "metadata": {
        "id": "96LzW1ovjorK"
      },
      "execution_count": null,
      "outputs": []
    },
    {
      "cell_type": "code",
      "source": [],
      "metadata": {
        "id": "_4U_V6U-jooM"
      },
      "execution_count": null,
      "outputs": []
    }
  ]
}